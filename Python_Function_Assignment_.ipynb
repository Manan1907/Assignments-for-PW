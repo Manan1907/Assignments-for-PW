{
  "nbformat": 4,
  "nbformat_minor": 0,
  "metadata": {
    "colab": {
      "provenance": []
    },
    "kernelspec": {
      "name": "python3",
      "display_name": "Python 3"
    },
    "language_info": {
      "name": "python"
    }
  },
  "cells": [
    {
      "cell_type": "code",
      "execution_count": null,
      "metadata": {
        "id": "4azcn931XANg"
      },
      "outputs": [],
      "source": [
        "# 1. Write a Python function that takes a list of numbers as input and returns the sum of all even numbers in the list.\n",
        "\n",
        "def sum_eve(list):\n",
        "    return sum(num for num in list if num %2 ==0)"
      ]
    },
    {
      "cell_type": "code",
      "source": [
        "list = (1,2,3,4,5,6,7,8,9)\n",
        "print (sum_eve(list))"
      ],
      "metadata": {
        "colab": {
          "base_uri": "https://localhost:8080/"
        },
        "id": "poMi9J7uZTM8",
        "outputId": "8899e6fd-aad9-4127-f966-96c8a850bab6"
      },
      "execution_count": null,
      "outputs": [
        {
          "output_type": "stream",
          "name": "stdout",
          "text": [
            "20\n"
          ]
        }
      ]
    },
    {
      "cell_type": "code",
      "source": [
        "# 2. Create a Python function that accepts a string and returns the reverse of that string\n",
        "\n",
        "def rev_str(str):\n",
        "    return str[::-1]"
      ],
      "metadata": {
        "id": "1inzoSexZsJm"
      },
      "execution_count": null,
      "outputs": []
    },
    {
      "cell_type": "code",
      "source": [
        "str = \"Nilesh Sinha\"\n",
        "print (rev_str(str))"
      ],
      "metadata": {
        "colab": {
          "base_uri": "https://localhost:8080/"
        },
        "id": "b3Xas146bqno",
        "outputId": "b1068ee0-c128-4984-c288-3927ef39e0c2"
      },
      "execution_count": null,
      "outputs": [
        {
          "output_type": "stream",
          "name": "stdout",
          "text": [
            "ahniS hseliN\n"
          ]
        }
      ]
    },
    {
      "cell_type": "code",
      "source": [
        "# 3. Implement a Python function that takes a list of integers and returns a new list containing the squares of each number.\n",
        "\n",
        "def sqr_list(list):\n",
        "    return [num**2 for num in list]\n",
        "\n"
      ],
      "metadata": {
        "id": "f3B_yEaUcAc8"
      },
      "execution_count": null,
      "outputs": []
    },
    {
      "cell_type": "code",
      "source": [
        "list = (1,2,3,4,5,6)\n",
        "print (sqr_list(list))"
      ],
      "metadata": {
        "colab": {
          "base_uri": "https://localhost:8080/"
        },
        "id": "VMdtnBZLcY7U",
        "outputId": "e80b4ce0-ebd6-414c-baca-0b2b1cd2a50c"
      },
      "execution_count": null,
      "outputs": [
        {
          "output_type": "stream",
          "name": "stdout",
          "text": [
            "[1, 4, 9, 16, 25, 36]\n"
          ]
        }
      ]
    },
    {
      "cell_type": "code",
      "source": [
        "# 4. Write a Python function that checks if a given number is prime or not from 1 to 200.\n",
        "\n",
        "def check_prime(num):\n",
        "    if num > 200:\n",
        "        return \"Number above 200\"\n",
        "    elif num < 2:\n",
        "        return \"Not a prime number\"\n",
        "    for i in range(2, int(num**0.5) + 1):\n",
        "        if num % i == 0:\n",
        "            return \"Not a prime number\"\n",
        "    return \"Prime number\""
      ],
      "metadata": {
        "id": "sAQuX4wTcnBQ"
      },
      "execution_count": null,
      "outputs": []
    },
    {
      "cell_type": "code",
      "source": [
        "num = 201\n",
        "print (check_prime(num))"
      ],
      "metadata": {
        "colab": {
          "base_uri": "https://localhost:8080/"
        },
        "id": "8ppbES69c6va",
        "outputId": "ccee456c-ca86-4d6d-f878-48615683beb6"
      },
      "execution_count": null,
      "outputs": [
        {
          "output_type": "stream",
          "name": "stdout",
          "text": [
            "Number above 200\n"
          ]
        }
      ]
    },
    {
      "cell_type": "code",
      "source": [
        "# 5. Create an iterator class in Python that generates the Fibonacci sequence up to a specified number of terms.\n",
        "\n",
        "num = 12\n",
        "fib = lambda n: n if n<=1 else fib(n-1) + fib(n-2)\n",
        "[fib(i) for i in range(num)]"
      ],
      "metadata": {
        "colab": {
          "base_uri": "https://localhost:8080/"
        },
        "id": "mkU0diGYgETU",
        "outputId": "563b587e-b55c-42cb-ba2c-e1849dabe1e0"
      },
      "execution_count": null,
      "outputs": [
        {
          "output_type": "execute_result",
          "data": {
            "text/plain": [
              "[0, 1, 1, 2, 3, 5, 8, 13, 21, 34, 55, 89]"
            ]
          },
          "metadata": {},
          "execution_count": 182
        }
      ]
    },
    {
      "cell_type": "code",
      "source": [
        "# 6. Write a generator function in Python that yields the powers of 2 up to a given exponent\n",
        "\n",
        "def power_of_two(exponent):\n",
        "    for i in range(exponent + 1):\n",
        "        yield 2 ** i"
      ],
      "metadata": {
        "id": "C-THyHcJh9BI"
      },
      "execution_count": null,
      "outputs": []
    },
    {
      "cell_type": "code",
      "source": [
        "exponent = 6\n",
        "for i in power_of_two(exponent):\n",
        "  print(i)"
      ],
      "metadata": {
        "colab": {
          "base_uri": "https://localhost:8080/"
        },
        "id": "Q25APvh7mbi0",
        "outputId": "6ef62498-8bc9-424b-a9b5-9e3199adfa93"
      },
      "execution_count": null,
      "outputs": [
        {
          "output_type": "stream",
          "name": "stdout",
          "text": [
            "1\n",
            "2\n",
            "4\n",
            "8\n",
            "16\n",
            "32\n",
            "64\n"
          ]
        }
      ]
    },
    {
      "cell_type": "code",
      "source": [
        "# 7. Implement a generator function that reads a file line by line and yields each line as a string\n",
        "\n",
        "def read_file(filename):\n",
        "    with open(filename, 'r') as file:\n",
        "        for line in file:\n",
        "            yield line.strip()"
      ],
      "metadata": {
        "id": "znpeomJxmjY2"
      },
      "execution_count": null,
      "outputs": []
    },
    {
      "cell_type": "code",
      "source": [
        "filename = \"My Name is Nilesh Sinha\"\n",
        "print(read_file(filename))"
      ],
      "metadata": {
        "colab": {
          "base_uri": "https://localhost:8080/"
        },
        "id": "5YHoc3ean3oK",
        "outputId": "4e50d238-8af5-4fa2-b740-625d55e70de6"
      },
      "execution_count": null,
      "outputs": [
        {
          "output_type": "stream",
          "name": "stdout",
          "text": [
            "<generator object read_file at 0x7e3445d05210>\n"
          ]
        }
      ]
    },
    {
      "cell_type": "code",
      "source": [
        "#8. Use a lambda function in Python to sort a list of tuples based on the second element of each tuple\n",
        "\n",
        "def sort_list(tuple_list):\n",
        "  sorted_list = sorted(tuple_list, key=lambda x: x[1])\n",
        "  return sorted_list"
      ],
      "metadata": {
        "id": "OmnoDPU6n9mR"
      },
      "execution_count": null,
      "outputs": []
    },
    {
      "cell_type": "code",
      "source": [
        "tuple_list = [(1, 'one'), (3, 'three'), (2, 'two'), (4, 'four')]\n",
        "print(sort_list(tuple_list))"
      ],
      "metadata": {
        "colab": {
          "base_uri": "https://localhost:8080/"
        },
        "id": "A0sTxDKSphWP",
        "outputId": "86735a87-5bda-416b-e6aa-851cfa46483a"
      },
      "execution_count": null,
      "outputs": [
        {
          "output_type": "stream",
          "name": "stdout",
          "text": [
            "[(4, 'four'), (1, 'one'), (3, 'three'), (2, 'two')]\n"
          ]
        }
      ]
    },
    {
      "cell_type": "code",
      "source": [
        "#9. Write a Python program that uses `map()` to convert a list of temperatures from Celsius to Fahrenheit.\n",
        "\n",
        "celsius_temp = [39.5, 40, 37.6, 38, -32, -40]\n",
        "list(map(lambda x: ((x * 9/5) + 32), celsius_temp))"
      ],
      "metadata": {
        "id": "ACae25-kpuHH",
        "colab": {
          "base_uri": "https://localhost:8080/"
        },
        "outputId": "047c7c4a-06f8-4cd3-8dbb-e1e236ccf760"
      },
      "execution_count": null,
      "outputs": [
        {
          "output_type": "execute_result",
          "data": {
            "text/plain": [
              "[103.1, 104.0, 99.68, 100.4, -25.6, -40.0]"
            ]
          },
          "metadata": {},
          "execution_count": 2
        }
      ]
    },
    {
      "cell_type": "code",
      "source": [
        "#10 . Create a Python program that uses `filter()` to remove all the vowels from a given string.\n",
        "\n",
        "def remove_vowels(string1):\n",
        "    vowels = 'aeiouAEIOU'\n",
        "    return \"\".join(filter(lambda x: x not in vowels, string1))"
      ],
      "metadata": {
        "id": "ayIOKraBryS0"
      },
      "execution_count": null,
      "outputs": []
    },
    {
      "cell_type": "code",
      "source": [
        "string1 = \"My name is Nilesh Sinha\"\n",
        "print(remove_vowels(string1))"
      ],
      "metadata": {
        "id": "hY_9Ha8ayx1V"
      },
      "execution_count": null,
      "outputs": []
    },
    {
      "cell_type": "code",
      "source": [
        "'''\n",
        "# 10 . Imagine an accounting routine used in a book shop. It works on a list with sublists, which look like this:\n",
        "\n",
        "Order No\t\tBook title and author\t\t\t          Quantity\t\tPrice per item\n",
        "34587\t\t\t  Learning Python, Mark Lutz\t\t          4\t\t\t    40.95\n",
        "98762\t\t\t  Programming Python, Mark Lutz\t          5\t\t\t    56.80\n",
        "77226\t\t\t  Head First Python, Paul Barry\t\t        3\t\t\t    32.95\n",
        "88112\t\t\t  Einfühlung in python 3, Bernd Klein\t    3\t\t\t     24.99\n",
        "\n",
        "Write a Python program, which returns a list with 2-tuples. Each tuple consists of the order number and the product of the price per item and the quantity. The product should be increased by 10,- € if the value of the order is smaller than 100,00 €. Write a Python program using lambda and map.\n",
        "'''\n",
        "\n",
        "def calculate_order_values(orders):\n",
        "    result = []\n",
        "    for order in orders:\n",
        "        order_number, price_per_item, quantity = order\n",
        "        total_value = price_per_item * quantity\n",
        "        if total_value < 100.00:\n",
        "            total_value += 10\n",
        "        result.append((order_number, total_value))\n",
        "    return result\n",
        "orders = [\n",
        "    (1, 20.0, 3),\n",
        "    (2, 50.0, 2)\n",
        "]\n",
        "\n",
        "order_values = calculate_order_values(orders)\n",
        "print(order_values)\n"
      ],
      "metadata": {
        "id": "KwHjGyX_y-77",
        "colab": {
          "base_uri": "https://localhost:8080/"
        },
        "outputId": "6eeb4373-0163-4161-a3f4-f015f5c90aaf"
      },
      "execution_count": null,
      "outputs": [
        {
          "output_type": "stream",
          "name": "stdout",
          "text": [
            "[(1, 70.0), (2, 100.0)]\n"
          ]
        }
      ]
    },
    {
      "cell_type": "code",
      "source": [],
      "metadata": {
        "id": "cUXIPsPT3sEu"
      },
      "execution_count": null,
      "outputs": []
    }
  ]
}