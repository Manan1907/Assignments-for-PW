{
  "nbformat": 4,
  "nbformat_minor": 0,
  "metadata": {
    "colab": {
      "provenance": []
    },
    "kernelspec": {
      "name": "python3",
      "display_name": "Python 3"
    },
    "language_info": {
      "name": "python"
    }
  },
  "cells": [
    {
      "cell_type": "markdown",
      "source": [
        "1.\t**What is the difference between interpreted and compiled languages**\n",
        "\n",
        " Interpreted language are where source code is translated and executed line by line during runtime by an interpreter. This approach allows for more flexibility and can be easier to debug and modify. While in complied language are where source code is translated into machine code (executable) before execution. This pre-translation allows for faster execution as the code is ready to be executed directly by the CPU.\n",
        "------------------------------------------------------------------------------------------------------------------------------------------------\n",
        "2.\t**What is exception handling in Python**\n",
        "\n",
        "  Exception handling in Python is a mechanism used to manage errors that occur during the execution of a program. These errors, known as exceptions, can disrupt the normal flow of the program, potentially causing it to terminate abruptly. Exception handling allows developers to anticipate and respond to these errors gracefully, preventing program crashes and ensuring a more robust and user-friendly experience.\n",
        "------------------------------------------------------------------------------------------------------------------------------------------------\n",
        "\n",
        "3.\t**What is the purpose of the finally block in exception handling**\n",
        "\n",
        "  The finally block in Python's exception handling serves to define a section of code that will always execute, irrespective of whether an exception was raised or caught within the try block.\n",
        "------------------------------------------------------------------------------------------------------------------------------------------------\n",
        "4.\t**What is logging in Python**\n",
        "\n",
        "  Logging in Python involves tracking events that occur during the execution of a program. It provides a way to record information about the program's behaviour, which is useful for debugging, monitoring, and understanding the flow of execution. The logging module is part of the Python standard library and offers a flexible framework for emitting log messages.\n",
        "------------------------------------------------------------------------------------------------------------------------------------------------\n",
        "5.\t**What is the significance of the __del__ method in Python**\n",
        "\n",
        "  The __del__ method, also known as a destructor, in Python is called when an object is garbage collected, which occurs after all references to the object have been deleted. Its primary purpose is to perform cleanup actions, such as releasing external resources or finalizing operations, before the object is removed from memory\n",
        "------------------------------------------------------------------------------------------------------------------------------------------------\n",
        "6.\t**What is the difference between import and from ... import in Python**\n",
        "\n",
        "  The import statement and the from ... import statement in Python serve different purposes in how they bring modules and their contents into your code.\n",
        "    \n",
        "    ***import*** - This statement imports the entire module. To access items (functions, classes, variables) within the module, you need to use dot notation, prefixing the item's name with the module's name.\n",
        "    \n",
        "    ***from ……. import*** -This statement imports specific items directly from the module into the current namespace. You can then use these items without the module name prefix. It's also possible to import multiple items using from module_name import item1, item2, item3. from module_name import * imports all items from a module.\n",
        "--------------------------------------------------------------------------------------------------------------------------------------\n",
        "7.\t**How can you handle multiple exceptions in Python**\n",
        "\n",
        "  To catch multiple exceptions in Python in a compact form, you can use the one-line try-except syntax. This is especially useful for handling minor errors without breaking the program flow. This one-line try-except statement catches multiple exceptions and provides a concise error-handling method.\n",
        "--------------------------------------------------------------------------------------------------------------------------------------\n",
        "8.\t**What is the purpose of the with statement when handling files in Python**\n",
        "\n",
        "  The with statement in Python is used for resource management, particularly for ensuring that resources like files are properly handled, especially in cases where exceptions might occur. When dealing with files, the with statement guarantees that the file is closed after the block of code within it is executed, even if errors arise.\n",
        "--------------------------------------------------------------------------------------------------------------------------------------\n",
        "9.\t**What is the difference between multithreading and multiprocessing**\n",
        "\n",
        "  ***Multithreading*** - It involves running multiple threads within a single process. These threads share the same memory space, which allows them to communicate and share data easily. However, due to the Global Interpreter Lock (GIL) in Python, only one thread can execute Python bytecode at a time, limiting true parallelism for CPU-bound tasks. Multithreading is more suitable for I/O-bound tasks where threads spend time waiting for external operations.\n",
        "  \n",
        "  ***Multiprocessing*** - It involves running multiple processes, each with its own memory space. This allows for true parallelism, as each process can execute independently on different CPU cores. Multiprocessing is suitable for CPU-bound tasks that can be divided into independent subtasks. However, it has a higher overhead compared to multithreading due to the need for inter-process communication (IPC) to share data between processes.\n",
        "------------------------------------------------------------------------------------------------------------------------------------------------\n",
        "10.\t**What are the advantages of using logging in a program**\n",
        "\n",
        "  Logging in Python offers significant advantages for debugging, troubleshooting, and monitoring application behavior. It provides a structured way to record information about program execution, allowing developers to identify issues, analyze performance, and understand application flow.\n",
        "------------------------------------------------------------------------------------------------------------------------------------------------\n",
        "11.\t**What is memory management in Python**\n",
        "\n",
        "  Memory management in Python is the process of allocating and deallocating memory for objects. Python uses a private heap to store objects. The management of this heap is handled automatically by the Python memory manager, which employs a combination of reference counting and garbage collection.\n",
        "------------------------------------------------------------------------------------------------------------------------------------------------\n",
        "\n",
        "12.\t**What are the basic steps involved in exception handling in Python**\n",
        "\n",
        "  Exception handling in Python involves the following steps:\n",
        "\n",
        "  ***Try Block:***\n",
        "\n",
        "  Enclose the code that might raise an exception within a try block. This signals to Python that you're prepared to handle potential errors in this section.\n",
        "\n",
        "  ***Except Block(s):***\n",
        "\n",
        "  Follow the try block with one or more except blocks. Each except block specifies the type of exception it can handle. If an exception occurs within the try block that matches an except block, the code within that except block is executed. Multiple except blocks can be used to handle different exception types.\n",
        "\n",
        "  ***Optional Else Block:***\n",
        "\n",
        "  An optional else block can be included after the except blocks. The code within the else block executes only if no exceptions were raised in the try block.\n",
        "\n",
        "  ***Optional Finally Block:***\n",
        "\n",
        "  An optional finally block can be included after the except (and else, if present) blocks. The code within the finally block always executes, regardless of whether an exception was raised or caught. It is commonly used for cleanup actions like closing files or releasing resources.\n",
        "\n",
        "  ***Raise Exceptions:***\n",
        "\n",
        "  Use the raise keyword to manually trigger an exception, either built-in or custom. This is useful for signalling errors or unexpected conditions that the program cannot handle normally.\n",
        "------------------------------------------------------------------------------------------------------------------------------------------------\n",
        "13.\t**Why is memory management important in Python**\n",
        "\n",
        "  Memory management is crucial in Python for several reasons:\n",
        "    \n",
        "  ***Efficiency:***\n",
        "    \n",
        "  Proper memory management ensures that programs run smoothly and quickly by efficiently allocating and deallocating memory.\n",
        "\n",
        "  ***Performance:***\n",
        "    \n",
        "  Efficient memory usage leads to faster processing and reduces the need for resources, such as RAM.\n",
        "\n",
        "  ***Stability:***\n",
        "    \n",
        "  It prevents memory leaks, where memory is allocated but never freed, leading to increased memory usage and potential crashes.\n",
        "\n",
        "  ***Resource optimization:***\n",
        "    \n",
        "  Effective memory management optimizes the use of available memory, allowing programs to handle larger datasets and more complex operations.\n",
        "\n",
        "  ***Avoiding errors:***\n",
        "    \n",
        "  It helps prevent memory-related errors, such as segmentation faults and buffer overflows, which can cause program termination or security vulnerabilities.\n",
        "\n",
        "------------------------------------------------------------------------------------------------------------------------------------------------\n",
        "14.\t**What is the role of try and except in exception handling**\n",
        "\n",
        "  In exception handling, try and except blocks work together to gracefully handle errors or exceptions that may occur during code execution. The try block contains the code that might potentially raise an exception, and the except block contains the code that will be executed if an exception is raised within the try block. This allows the program to continue running instead of crashing when an error occurs.\n",
        "------------------------------------------------------------------------------------------------------------------------------------------------\n",
        "15.\t**How does Python's garbage collection system work**\n",
        "\n",
        "  Python uses a hybrid approach for garbage collection: reference counting and generational garbage collection. Reference counting is the primary method, where each object has a reference count indicating how many other objects are referencing it. When an object's reference count reaches zero, it's deallocated. However, to handle circular references (where objects reference each other), Python also employs a generational garbage collector. This collector uses a mark-and-sweep algorithm to identify and reclaim memory occupied by unreachable objects, even in the presence of cycles.\n",
        "------------------------------------------------------------------------------------------------------------------------------------------------\n",
        "16.\t**What is the purpose of the else block in exception handling**\n",
        "\n",
        "  The else block in exception handling, often used in try...except...else structures, executes only when no exceptions are raised within the try block. It provides a way to execute code that's intended to run when the try block executes successfully, effectively separating normal execution from exception handling.\n",
        "--------------------------------------------------------------------------------------------------------------------------------------\n",
        "17.\t**What are the common logging levels in Python**\n",
        "\n",
        "  Python's logging module provides a standard way to output messages during the execution of a program. These messages are categorized by severity levels, which help developers filter and manage log output.\n",
        "------------------------------------------------------------------------------------------------------------------------------------------------\n",
        "18.\t**What is the difference between os.fork() and multiprocessing in Python**\n",
        "\n",
        "  Difference between os.fork() and multiprocessing in Python is given below :-\n",
        "  \n",
        "  ***os.fork()***\n",
        "  \n",
        "  •\tIt's a low-level system call that duplicates the current process, creating a child process that's nearly identical to the parent.\n",
        "  \n",
        "  •\tThe child process inherits the parent's memory space, open files, and other resources.\n",
        "  \n",
        "  •\tIt's only available on Unix-like systems and can be problematic with multithreaded programs or certain libraries.\n",
        "  \n",
        "  •\tIt's faster for process creation but requires careful management of shared resources.\n",
        "\n",
        "\n",
        "  ***Multiprocessing***\n",
        "  \n",
        "  •\tIt's a higher-level module that provides a more robust and portable way to create and manage processes.\n",
        "  \n",
        "  •\tIt offers different start methods (\"fork\", \"spawn\", \"forkserver\") to handle process creation, addressing the limitations of os.fork().\n",
        "  \n",
        "  •\t\"Spawn\" creates a fresh Python interpreter process, ensuring a clean environment for the child process. \"Forkserver\" starts a server process to handle forking, improving safety with multithreading.\n",
        "  \n",
        "  •\tIt facilitates inter-process communication (IPC) through queues, pipes, and shared memory.\n",
        "  \n",
        "  •\tIt's generally safer and more reliable, especially for complex applications, but has a higher overhead for process creation.\n",
        "  \n",
        "------------------------------------------------------------------------------------------------------------------------------------------------\n",
        "19.\t**What is the importance of closing a file in Python**\n",
        "\n",
        "  Closing a file in Python is important for several reasons:\n",
        "\n",
        "  ***Resource Management:***\n",
        "  \n",
        "  When a file is opened, the operating system allocates resources to manage it. Failing to close the file after use can lead to resource leaks, where these resources remain allocated even when they are no longer needed. Over time, this can degrade system performance and potentially cause the program or system to crash.\n",
        "  \n",
        "  ***Data Integrity:***\n",
        "  \n",
        "  When data is written to a file, it is often buffered in memory before being written to the disk. Closing the file ensures that all buffered data is flushed to the disk, preventing data loss or corruption.\n",
        "\n",
        "  ***File Locking:***\n",
        "  \n",
        "  Some file operations require exclusive access to the file. If a file is not closed, it may remain locked, preventing other processes or users from accessing it.\n",
        "\n",
        "  ***Code Maintainability:***\n",
        "  \n",
        "  Explicitly closing files makes code more readable and maintainable, as it clearly indicates when resources are being managed.\n",
        "\n",
        "  ***Preventing Errors:***\n",
        "  \n",
        "  Attempting to perform operations on a closed file will result in an ValueError: I/O operation on closed file error.\n",
        "------------------------------------------------------------------------------------------------------------------------------------------------\n",
        "20.\t**What is the difference between file.read() and file.readline() in Python**\n",
        "\n",
        "  ***file.read()***: This method reads the entire file content as a single string. If a size argument is provided, it reads up to that number of bytes. If no argument is provided, it reads the entire file. It's suitable for smaller files or when you need the entire content at once. However, for large files, it can consume significant memory.\n",
        "\n",
        "  ***file.readline()***: This method reads a single line from the file, including the newline character (\\n) at the end. Each subsequent call to file.readline() will read the next line in the file, advancing the file pointer. When the end of the file is reached, it returns an empty string. It's efficient for processing large files line by line, as it doesn't load the entire file into memory.\n",
        "------------------------------------------------------------------------------------------------------------------------------------------------\n",
        "21.\t**What is the logging module in Python used for**\n",
        "\n",
        "  The logging module in Python is used for recording events and debugging issues during application execution. It provides a flexible system for logging messages, including errors, warnings, and informational messages, to various output destinations like files or the console.\n",
        "--------------------------------------------------------------------------------------------------------------------------------------\n",
        "22.\t**What is the os module in Python used for in file handling**\n",
        "\n",
        "  Python has a built-in os module with methods for interacting with the operating system, like creating files and directories, management of files and directories, input, output, environment variables, process management, etc.\n",
        "--------------------------------------------------------------------------------------------------------------------------------------\n",
        "23.\t**What are the challenges associated with memory management in Python**\n",
        "\n",
        "  Here are some challenges associated with memory management in Python:\n",
        "  \n",
        "  ***Garbage Collection Overhead:***\n",
        "\n",
        "  Python's automatic garbage collection, while convenient, can introduce performance overhead due to the time it takes to identify and reclaim unused memory. This can lead to unpredictable pauses or latency spikes in applications, especially in real-time or performance-critical scenarios.\n",
        "\n",
        "  ***Memory Leaks:***\n",
        "\n",
        "  Although Python has automatic garbage collection, memory leaks can still occur, particularly with circular references (where objects refer to each other, preventing their reference count from reaching zero) or when dealing with external resources that are not properly released.\n",
        "\n",
        "  ***Memory Fragmentation:***\n",
        "\n",
        "  Dynamic allocation and deallocation of memory can lead to fragmentation, where small, non-contiguous blocks of memory become scattered throughout the heap. This can make it difficult to allocate larger blocks of memory, even if sufficient free space is available in total.\n",
        "\n",
        "  ***Large Datasets:***\n",
        "\n",
        "  When working with large datasets, Python's memory consumption can become a bottleneck. Inefficient data structures or algorithms can lead to excessive memory usage, potentially causing MemoryError exceptions or performance degradation.\n",
        "\n",
        "  ***Limited Manual Control:***\n",
        "\n",
        "  Python abstracts away much of the memory management process, providing limited manual control to developers. While this simplifies development, it can be a challenge when fine-tuning memory usage or optimizing performance in specific scenarios.\n",
        "\n",
        "  ***Circular References:***\n",
        "\n",
        "  Python's garbage collector might fail to collect objects that have circular references, leading to memory leaks over time if not handled properly.\n",
        "\n",
        "  ***Memory Profiling Complexity:***\n",
        "\n",
        "  Identifying memory issues can be challenging because Python abstracts away many low-level details. Effective memory profiling requires specific tools and techniques to understand memory usage patterns.\n",
        "\n",
        "  ***Concurrency Challenges:***\n",
        "\n",
        "  When using multithreading, managing memory becomes more complex due to potential race conditions and the need for thread synchronization. Multiprocessing, while avoiding some of these issues, introduces overhead due to separate memory spaces for each process.\n",
        "\n",
        "  ***Memory Bloat:***\n",
        "\n",
        "  Loading high amounts of data into memory and failing to deallocate it when it's no longer in use can lead to memory bloat.\n",
        "\n",
        "  ***Dynamic Memory Allocation:***\n",
        "\n",
        "  The time taken to allocate memory may not be predictable, and the memory pool may become fragmented, resulting in unexpected allocation failures.\n",
        "------------------------------------------------------------------------------------------------------------------------------------------------\n",
        "24.\t**How do you raise an exception manually in Python**\n",
        "\n",
        "  To raise an exception manually in Python, the raise keyword is used, followed by the exception class or instance that is intended to be raised. Optionally, a custom error message can be included to provide more context about the exception.\n",
        "------------------------------------------------------------------------------------------------------------------------------------------------\n",
        "25.\t**Why is it important to use multithreading in certain applications**\n",
        "\n",
        "  Multithreading is important in certain Python applications to improve performance, responsiveness, and resource utilization. It allows multiple tasks to run concurrently within a single program, which can significantly reduce execution time, especially for I/O-bound operations. In applications with user interfaces, multithreading keeps the UI responsive while background tasks are running. It also enables better use of system resources, such as CPU cores, by allowing multiple threads to execute simultaneously.\n",
        "------------------------------------------------------------------------------------------------------------------------------------------------\n"
      ],
      "metadata": {
        "id": "-GxCDiv0Qk-i"
      }
    },
    {
      "cell_type": "code",
      "execution_count": null,
      "metadata": {
        "id": "HRlnaPqLQjsN"
      },
      "outputs": [],
      "source": [
        "# 1.\tHow can you open a file for writing in Python and write a string to\n",
        "\n",
        "file = open(\"example.txt\", \"w\")\n",
        "file.write(\"Hello, world!\")\n",
        "file.close()"
      ]
    },
    {
      "cell_type": "code",
      "source": [
        "# 2.\tWrite a Python program to read the contents of a file and print each line\n",
        "\n",
        "with open(\"example.txt\", \"r\") as file:\n",
        "    data = file.read()\n",
        "\n",
        "print(data)"
      ],
      "metadata": {
        "colab": {
          "base_uri": "https://localhost:8080/",
          "height": 211
        },
        "collapsed": true,
        "id": "RsI4slHK2pvE",
        "outputId": "1e3ba2c2-1c28-4314-e1be-c133368ad144"
      },
      "execution_count": null,
      "outputs": [
        {
          "output_type": "error",
          "ename": "FileNotFoundError",
          "evalue": "[Errno 2] No such file or directory: 'example.txt'",
          "traceback": [
            "\u001b[0;31m---------------------------------------------------------------------------\u001b[0m",
            "\u001b[0;31mFileNotFoundError\u001b[0m                         Traceback (most recent call last)",
            "\u001b[0;32m<ipython-input-2-2c6f46c12b57>\u001b[0m in \u001b[0;36m<cell line: 0>\u001b[0;34m()\u001b[0m\n\u001b[1;32m      1\u001b[0m \u001b[0;31m# 2.    Write a Python program to read the contents of a file and print each line\u001b[0m\u001b[0;34m\u001b[0m\u001b[0;34m\u001b[0m\u001b[0m\n\u001b[1;32m      2\u001b[0m \u001b[0;34m\u001b[0m\u001b[0m\n\u001b[0;32m----> 3\u001b[0;31m \u001b[0;32mwith\u001b[0m \u001b[0mopen\u001b[0m\u001b[0;34m(\u001b[0m\u001b[0;34m\"example.txt\"\u001b[0m\u001b[0;34m,\u001b[0m \u001b[0;34m\"r\"\u001b[0m\u001b[0;34m)\u001b[0m \u001b[0;32mas\u001b[0m \u001b[0mfile\u001b[0m\u001b[0;34m:\u001b[0m\u001b[0;34m\u001b[0m\u001b[0;34m\u001b[0m\u001b[0m\n\u001b[0m\u001b[1;32m      4\u001b[0m     \u001b[0mdata\u001b[0m \u001b[0;34m=\u001b[0m \u001b[0mfile\u001b[0m\u001b[0;34m.\u001b[0m\u001b[0mread\u001b[0m\u001b[0;34m(\u001b[0m\u001b[0;34m)\u001b[0m\u001b[0;34m\u001b[0m\u001b[0;34m\u001b[0m\u001b[0m\n\u001b[1;32m      5\u001b[0m \u001b[0;34m\u001b[0m\u001b[0m\n",
            "\u001b[0;31mFileNotFoundError\u001b[0m: [Errno 2] No such file or directory: 'example.txt'"
          ]
        }
      ]
    },
    {
      "cell_type": "code",
      "source": [
        "# 3.\tHow would you handle a case where the file doesn't exist while trying to open it for reading\n",
        "\n",
        "try:\n",
        "    f = open(\"example.txt\", \"r\")\n",
        "except Exception as e:\n",
        "    print(\"There is an issue with the code and the issue is:\", e)\n",
        "else:\n",
        "    print(5+3)\n",
        "    print(\"This will be executed if try except block is executed without any exception\")\n",
        "\n"
      ],
      "metadata": {
        "id": "TDsv4U-d2s-W",
        "colab": {
          "base_uri": "https://localhost:8080/"
        },
        "outputId": "2380329a-f3f3-4618-916d-1774de6ef285"
      },
      "execution_count": 1,
      "outputs": [
        {
          "output_type": "stream",
          "name": "stdout",
          "text": [
            "There is an issue with the code and the issue is: [Errno 2] No such file or directory: 'example.txt'\n"
          ]
        }
      ]
    },
    {
      "cell_type": "code",
      "source": [
        "# 4.\tWrite a Python script that reads from one file and writes its content to another file\n",
        "\n",
        "with open(\"example.txt\", \"r\") as file:\n",
        "    data = file.read()\n",
        "\n",
        "f = open(\"example.txt\", \"w\")\n",
        "f.write(data)\n"
      ],
      "metadata": {
        "id": "k7L-nsTe2s1P",
        "colab": {
          "base_uri": "https://localhost:8080/",
          "height": 211
        },
        "outputId": "2f384ecf-8c15-4312-be20-a54fe16f3761"
      },
      "execution_count": 4,
      "outputs": [
        {
          "output_type": "error",
          "ename": "FileNotFoundError",
          "evalue": "[Errno 2] No such file or directory: 'example.txt'",
          "traceback": [
            "\u001b[0;31m---------------------------------------------------------------------------\u001b[0m",
            "\u001b[0;31mFileNotFoundError\u001b[0m                         Traceback (most recent call last)",
            "\u001b[0;32m<ipython-input-4-8df711a993ab>\u001b[0m in \u001b[0;36m<cell line: 0>\u001b[0;34m()\u001b[0m\n\u001b[1;32m      1\u001b[0m \u001b[0;31m# 4.    Write a Python script that reads from one file and writes its content to another file\u001b[0m\u001b[0;34m\u001b[0m\u001b[0;34m\u001b[0m\u001b[0m\n\u001b[1;32m      2\u001b[0m \u001b[0;34m\u001b[0m\u001b[0m\n\u001b[0;32m----> 3\u001b[0;31m \u001b[0;32mwith\u001b[0m \u001b[0mopen\u001b[0m\u001b[0;34m(\u001b[0m\u001b[0;34m\"example.txt\"\u001b[0m\u001b[0;34m,\u001b[0m \u001b[0;34m\"r\"\u001b[0m\u001b[0;34m)\u001b[0m \u001b[0;32mas\u001b[0m \u001b[0mfile\u001b[0m\u001b[0;34m:\u001b[0m\u001b[0;34m\u001b[0m\u001b[0;34m\u001b[0m\u001b[0m\n\u001b[0m\u001b[1;32m      4\u001b[0m     \u001b[0mdata\u001b[0m \u001b[0;34m=\u001b[0m \u001b[0mfile\u001b[0m\u001b[0;34m.\u001b[0m\u001b[0mread\u001b[0m\u001b[0;34m(\u001b[0m\u001b[0;34m)\u001b[0m\u001b[0;34m\u001b[0m\u001b[0;34m\u001b[0m\u001b[0m\n\u001b[1;32m      5\u001b[0m \u001b[0;34m\u001b[0m\u001b[0m\n",
            "\u001b[0;31mFileNotFoundError\u001b[0m: [Errno 2] No such file or directory: 'example.txt'"
          ]
        }
      ]
    },
    {
      "cell_type": "code",
      "source": [
        "# 5.\tHow would you catch and handle division by zero error in Python\n",
        "\n",
        "try:\n",
        "    result = 10 / 0\n",
        "except ZeroDivisionError:\n",
        "    print(\"Error: Division by zero\")\n",
        "else:\n",
        "    print(result)"
      ],
      "metadata": {
        "id": "UuhmgbIT2ssv",
        "colab": {
          "base_uri": "https://localhost:8080/"
        },
        "outputId": "b304ee29-ec1c-41e1-fe2a-9d6edd82bf6f"
      },
      "execution_count": 5,
      "outputs": [
        {
          "output_type": "stream",
          "name": "stdout",
          "text": [
            "Error: Division by zero\n"
          ]
        }
      ]
    },
    {
      "cell_type": "code",
      "source": [
        "# 6.\tWrite a Python program that logs an error message to a log file when a division by zero exception occurs\n",
        "\n",
        "import logging\n",
        "\n",
        "logging.basicConfig(filename=\"error.log\", level=logging.ERROR)\n",
        "\n",
        "try:\n",
        "    result = 10 / 0\n",
        "except ZeroDivisionError:\n",
        "    logging.error(\"Error: Division by zero\")\n",
        "else:\n",
        "    print(result)"
      ],
      "metadata": {
        "id": "7LrSwn4Z2sko"
      },
      "execution_count": null,
      "outputs": []
    },
    {
      "cell_type": "code",
      "source": [
        "# 7.\tHow do you log information at different levels (INFO, ERROR, WARNING) in Python using the logging module\n",
        "\n",
        "import logging\n",
        "\n",
        "logging.basicConfig(filename=\"info.log\", level=logging.INFO)\n",
        "\n",
        "logging.info(\"This is an info message\")\n",
        "logging.warning(\"This is a warning message\")\n",
        "logging.error(\"This is an error message\")\n"
      ],
      "metadata": {
        "colab": {
          "base_uri": "https://localhost:8080/"
        },
        "id": "UEfw3f_RWHts",
        "outputId": "df76098a-76ca-4381-a3dd-20027f85c31a"
      },
      "execution_count": 6,
      "outputs": [
        {
          "output_type": "stream",
          "name": "stderr",
          "text": [
            "WARNING:root:This is a warning message\n",
            "ERROR:root:This is an error message\n"
          ]
        }
      ]
    },
    {
      "cell_type": "code",
      "source": [
        "# 8.\tWrite a program to handle a file opening error using exception handling\n",
        "\n",
        "try:\n",
        "    f = open(\"example.txt\", \"r\")\n",
        "except Exception as e:\n",
        "    print(\"There is an issue with the code and the issue is:\", e)"
      ],
      "metadata": {
        "id": "COrm_sxm2sTk",
        "colab": {
          "base_uri": "https://localhost:8080/"
        },
        "outputId": "aebc339d-5d7c-4635-d671-0ff063d3d02d"
      },
      "execution_count": 8,
      "outputs": [
        {
          "output_type": "stream",
          "name": "stdout",
          "text": [
            "There is an issue with the code and the issue is: [Errno 2] No such file or directory: 'example.txt'\n"
          ]
        }
      ]
    },
    {
      "cell_type": "code",
      "source": [
        "# 9.\tHow can you read a file line by line and store its content in a list in Python\n",
        "\n",
        "with open(\"example.txt\", \"r\") as file:\n",
        "    lines = file.readlines()\n",
        "\n",
        "print(lines)\n"
      ],
      "metadata": {
        "id": "MyB1yY6l2pm-"
      },
      "execution_count": null,
      "outputs": []
    },
    {
      "cell_type": "code",
      "source": [
        "# 10.\tHow can you append data to an existing file in Python\n",
        "\n",
        "with open(\"example.txt\", \"a\") as file:\n",
        "    file.write(\"\\nThis is a new line.\")\n",
        ""
      ],
      "metadata": {
        "id": "FXo9g2h-2pdu"
      },
      "execution_count": null,
      "outputs": []
    },
    {
      "cell_type": "code",
      "source": [
        "# 11.\tWrite a Python program that uses a try-except block to handle an error when attempting to access a dictionary key that doesn't exist\n",
        "\n",
        "my_dict = {\"a\": 1, \"b\": 2, \"c\": 3}\n",
        "\n",
        "try:\n",
        "    value = my_dict[\"d\"]\n",
        "except KeyError:\n",
        "    print(\"Error: Key not found in the dictionary\")\n"
      ],
      "metadata": {
        "id": "pVFVrUV520Ej"
      },
      "execution_count": null,
      "outputs": []
    },
    {
      "cell_type": "code",
      "source": [
        "# 12.\tWrite a program that demonstrates using multiple except blocks to handle different types of exceptions\n",
        "\n",
        "try:\n",
        "    result = 10 / 0\n",
        "except ZeroDivisionError:\n",
        "    print(\"Error: Division by zero\")\n",
        "except ValueError:\n",
        "    print(\"Error: Invalid value\")\n",
        "else:\n",
        "    print(result)"
      ],
      "metadata": {
        "id": "6qRYQmTGXJxx"
      },
      "execution_count": null,
      "outputs": []
    },
    {
      "cell_type": "code",
      "source": [
        "# 13.\tHow would you check if a file exists before attempting to read it in Python\n",
        "\n",
        "import os\n",
        "\n",
        "if os.path.exists(\"example.txt\"):\n",
        "    with open(\"example.txt\", \"r\") as file:\n",
        "        data = file.read()\n",
        "    print(data)\n",
        "else:\n",
        "    print(\"File does not exist\")\n",
        ""
      ],
      "metadata": {
        "id": "zXNaxX5E2z9O"
      },
      "execution_count": null,
      "outputs": []
    },
    {
      "cell_type": "code",
      "source": [
        "# 14.\tWrite a program that uses the logging module to log both informational and error messages\n",
        "\n",
        "import logging\n",
        "\n",
        "logging.basicConfig(filename=\"info.log\", level=logging.INFO)\n",
        "\n",
        "logging.info(\"This is an info message\")\n",
        "logging.warning(\"This is a warning message\")\n",
        "logging.error(\"This is an error message\")\n"
      ],
      "metadata": {
        "colab": {
          "base_uri": "https://localhost:8080/"
        },
        "id": "wCJd-LgvXg3R",
        "outputId": "a485c121-a3ad-4d45-e864-e71f1c9792e7"
      },
      "execution_count": 12,
      "outputs": [
        {
          "output_type": "stream",
          "name": "stderr",
          "text": [
            "WARNING:root:This is a warning message\n",
            "ERROR:root:This is an error message\n"
          ]
        }
      ]
    },
    {
      "cell_type": "code",
      "source": [
        "# 15.\tWrite a Python program that prints the content of a file and handles the case when the file is empty\n",
        "\n",
        "try:\n",
        "    with open(\"example.txt\", \"r\") as file:\n",
        "        content = file.read()\n",
        "        if content:\n",
        "            print(content)\n",
        "        else:\n",
        "            print(\"The file is empty.\")\n",
        "except FileNotFoundError:\n",
        "    print(\"File not found.\")\n",
        ""
      ],
      "metadata": {
        "id": "pVfGuZ6U2z2A"
      },
      "execution_count": null,
      "outputs": []
    },
    {
      "cell_type": "code",
      "source": [
        "# 16.\tDemonstrate how to use memory profiling to check the memory usage of a small program\n",
        "\n",
        "import memory_profiler\n",
        "\n",
        "@memory_profiler.profile\n",
        "def my_function():\n",
        "    # Some code here\n",
        "    pass\n",
        "\n",
        "my_function()\n"
      ],
      "metadata": {
        "id": "O8P-CaJI2zyk"
      },
      "execution_count": null,
      "outputs": []
    },
    {
      "cell_type": "code",
      "source": [
        "# 17.\tWrite a Python program to create and write a list of numbers to a file, one number per line\n",
        "\n",
        "with open(\"numbers.txt\", \"w\") as file:\n",
        "    numbers = [1, 2, 3, 4, 5]\n",
        "    for num in numbers:\n",
        "        file.write(str(num) + \"\\n\")"
      ],
      "metadata": {
        "id": "TMxRUlde2zvB"
      },
      "execution_count": 13,
      "outputs": []
    },
    {
      "cell_type": "code",
      "source": [
        "# 18.\tHow would you implement a basic logging setup that logs to a file with rotation after 1MB\n",
        "\n",
        "import logging\n",
        "from logging.handlers import RotatingFileHandler\n",
        "\n",
        "# Create a logger\n",
        "logger = logging.getLogger(\"my_logger\")\n",
        "logger.setLevel(logging.INFO)\n",
        "\n",
        "# Create a rotating file handler\n",
        "handler = RotatingFileHandler(\"my_log.log\", maxBytes=1000000, backupCount=5)\n",
        "logger.addHandler(handler)\n",
        "\n",
        "# Log some messages\n",
        "logger.info(\"This is an info message\")\n",
        "logger.warning(\"This is a warning message\")\n",
        "logger.error(\"This is an error message\")\n",
        "\n"
      ],
      "metadata": {
        "id": "c6WdJomsZZy7"
      },
      "execution_count": null,
      "outputs": []
    },
    {
      "cell_type": "code",
      "source": [
        "# 19.\tWrite a program that handles both IndexError and KeyError using a try-except block\n",
        "\n",
        "my_list = [1, 2, 3]\n",
        "\n",
        "try:\n",
        "    value = my_list[3]\n",
        "except IndexError:\n",
        "    print(\"Error: Index out of range\")\n",
        "except KeyError:\n",
        "    print(\"Error: Key not found in the dictionary\")\n",
        ""
      ],
      "metadata": {
        "id": "MhRJrcL925nh"
      },
      "execution_count": null,
      "outputs": []
    },
    {
      "cell_type": "code",
      "source": [
        "# 20.\tHow would you open a file and read its contents using a context manager in Python\n",
        "\n",
        "with open(\"example.txt\", \"r\") as file:\n",
        "    data = file.read()\n",
        "    print(data)"
      ],
      "metadata": {
        "id": "X1WI4bFG25ew",
        "colab": {
          "base_uri": "https://localhost:8080/",
          "height": 211
        },
        "collapsed": true,
        "outputId": "af738a76-d57b-494f-aaf3-9e39094e379d"
      },
      "execution_count": 14,
      "outputs": [
        {
          "output_type": "error",
          "ename": "FileNotFoundError",
          "evalue": "[Errno 2] No such file or directory: 'example.txt'",
          "traceback": [
            "\u001b[0;31m---------------------------------------------------------------------------\u001b[0m",
            "\u001b[0;31mFileNotFoundError\u001b[0m                         Traceback (most recent call last)",
            "\u001b[0;32m<ipython-input-14-bc2511a52b45>\u001b[0m in \u001b[0;36m<cell line: 0>\u001b[0;34m()\u001b[0m\n\u001b[1;32m      1\u001b[0m \u001b[0;31m# 20.   How would you open a file and read its contents using a context manager in Python\u001b[0m\u001b[0;34m\u001b[0m\u001b[0;34m\u001b[0m\u001b[0m\n\u001b[1;32m      2\u001b[0m \u001b[0;34m\u001b[0m\u001b[0m\n\u001b[0;32m----> 3\u001b[0;31m \u001b[0;32mwith\u001b[0m \u001b[0mopen\u001b[0m\u001b[0;34m(\u001b[0m\u001b[0;34m\"example.txt\"\u001b[0m\u001b[0;34m,\u001b[0m \u001b[0;34m\"r\"\u001b[0m\u001b[0;34m)\u001b[0m \u001b[0;32mas\u001b[0m \u001b[0mfile\u001b[0m\u001b[0;34m:\u001b[0m\u001b[0;34m\u001b[0m\u001b[0;34m\u001b[0m\u001b[0m\n\u001b[0m\u001b[1;32m      4\u001b[0m     \u001b[0mdata\u001b[0m \u001b[0;34m=\u001b[0m \u001b[0mfile\u001b[0m\u001b[0;34m.\u001b[0m\u001b[0mread\u001b[0m\u001b[0;34m(\u001b[0m\u001b[0;34m)\u001b[0m\u001b[0;34m\u001b[0m\u001b[0;34m\u001b[0m\u001b[0m\n\u001b[1;32m      5\u001b[0m     \u001b[0mprint\u001b[0m\u001b[0;34m(\u001b[0m\u001b[0mdata\u001b[0m\u001b[0;34m)\u001b[0m\u001b[0;34m\u001b[0m\u001b[0;34m\u001b[0m\u001b[0m\n",
            "\u001b[0;31mFileNotFoundError\u001b[0m: [Errno 2] No such file or directory: 'example.txt'"
          ]
        }
      ]
    },
    {
      "cell_type": "code",
      "source": [
        "# 21.\tWrite a Python program that reads a file and prints the number of occurrences of a specific word\n",
        "\n",
        "word_to_count = \"hello\"\n",
        "\n",
        "with open(\"example.txt\", \"r\") as file:\n",
        "    content = file.read()\n",
        "    word_count = content.count(word_to_count)\n",
        "\n"
      ],
      "metadata": {
        "id": "Jblp768y25Vs"
      },
      "execution_count": null,
      "outputs": []
    },
    {
      "cell_type": "code",
      "source": [
        "# 22.\tHow can you check if a file is empty before attempting to read its contents\n",
        "\n",
        "with open(\"example.txt\", \"r\") as file:\n",
        "    content = file.read()\n",
        "    if content:\n",
        "        print(content)\n",
        "    else:\n",
        "        print(\"The file is empty.\")"
      ],
      "metadata": {
        "id": "7fe53iMR25M2"
      },
      "execution_count": null,
      "outputs": []
    },
    {
      "cell_type": "code",
      "source": [
        "# 23.\tWrite a Python program that writes to a log file when an error occurs during file handling.\n",
        "\n",
        "import logging\n",
        "\n",
        "logging.basicConfig(filename=\"error.log\", level=logging.ERROR)\n",
        "\n",
        "try:\n",
        "    with open(\"nonexistent_file.txt\", \"r\") as file:\n",
        "        content = file.read()\n",
        "\n"
      ],
      "metadata": {
        "id": "1EhR_KCS25EG"
      },
      "execution_count": null,
      "outputs": []
    }
  ]
}