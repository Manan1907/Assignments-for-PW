{
 "cells": [
  {
   "cell_type": "markdown",
   "id": "786a8c26",
   "metadata": {},
   "source": [
    "'''\n",
    "1.\tWhat are data structures, and why are they important\n",
    "\n",
    "    o\tData structures are specialized formats for organizing, storing, and accessing collections of data. They provide efficient ways to manage information based on its characteristics and intended use.\n",
    "\n",
    "\n",
    "2.\tExplain the difference between mutable and immutable data types with examples\n",
    "    \n",
    "    o\tMutable data types are those which can be changed, modified, replaced etc. Lists an example of mutable data types. Immutable are those data types which cannot be modified, changed etc and example for same is Tuple. \n",
    "\n",
    "\n",
    "3.\tWhat are the main differences between lists and tuples in Python\n",
    "    \n",
    "    o\tLists are mutable and can be modified whereas Tuples are immutable and cannot be modified once created.\n",
    "\n",
    "\n",
    "4.\tDescribe how dictionaries store data\n",
    "    \n",
    "    o\tDictionaries store data in pair as Keys and Value. Keys are immutable and unique. Values are associated with keys and are mutable.\n",
    "\n",
    "\n",
    "5.\tWhy might you use a set instead of a list in Python\n",
    "    \n",
    "    o\tSet is used when uniqueness of elements is crucial and order doesn't matter, while List is preferable when you need to maintain the order of elements and allow duplicates.\n",
    "\n",
    "\n",
    "6.\tWhat is a string in Python, and how is it different from a list\n",
    "    \n",
    "    o\tA string is a sequence of characters, whereas list is a sequence of elements.\n",
    "\n",
    "\n",
    "7.\tHow do tuples ensure data integrity in Python\n",
    "    \n",
    "    o\tTuples once created cannot be changed, modified or replace hance integrity is maintained.\n",
    "\n",
    "\n",
    "8.\tWhat is a hash table, and how does it relate to dictionaries in Python\n",
    "    \n",
    "    o\tHash tables are a type of data structure in which the address/ index value of the data element is generated. This enables very fast data access as the index value behaves as a key for the data value. hash tables store key-value pairs but the key is generated through a hashing function. So the search and insertion function of a data element becomes much faster as the key values themselves become the index of the array which stores the data. During lookup, the key is hashed and the resulting hash indicates where the corresponding value is stored.\n",
    "\n",
    "\n",
    "9.\tCan lists contain different data types in Python\n",
    "    \n",
    "    o\tYes, lists can contain different data types in python.\n",
    "\n",
    "\n",
    "10.\tExplain why strings are immutable in Python\n",
    "    \n",
    "    o\tPython strings are \"immutable\" because they cannot be changed after they are created.\n",
    "\n",
    "\n",
    "11.\tWhat advantages do dictionaries offer over lists for certain tasks\n",
    "    \n",
    "    o\tThe primary advantage would be retrieving stored values as it is much simpler to search through a dictionary. If the data stored is identifiable, the data can be attributed to name or item this might be a preferable system. Certain task like storing name, roll number, class, address of students in school will be preferable if dictionaries.\n",
    "\n",
    "\n",
    "12.\tDescribe a scenario where using a tuple would be preferable over a list\n",
    "    \n",
    "    o\tA tuple is used instead of a list when you have a collection of items that should not be modified. Tuples are useful when you want to ensure that the data remains constant throughout your program. A scenario where exam marks are stored should be stored in tuple so that modification post creation is not possible.\n",
    "\n",
    "\n",
    "13.\tHow do sets handle duplicate values in Python\n",
    "    \n",
    "    o\tSets consider duplicated value as one instance only. \n",
    "\n",
    "\n",
    "14.\tHow does the “in” keyword work differently for lists and dictionaries\n",
    "    \n",
    "    o\tThe in keyword in dictionaries tells whether something appears or not as a key in the dictionary. The in keyword can be used to test whether certain characters are present in a string or a certain value present in a list and is very useful to write conditional statements that will execute a block of code only when a value or character is found in a list.\n",
    "\n",
    "\n",
    "15.\tCan you modify the elements of a tuple? Explain why or why not\n",
    "    \n",
    "    o\tNo, we cannot modify elements of a tuple. This is because tuples are immutable.\n",
    "\n",
    "\n",
    "16.\tWhat is a nested dictionary, and give an example of its use case\n",
    "    \n",
    "    o\tNested dictionary is a dictionary where the values of one or more key-value pairs are themselves dictionaries. Example in name and address database the address can be nested. e.g. \n",
    "    Personal_detail = {name\":\"Nilesh\",\"age\":50,\"address\": {\"city\": \"Mumbai\", \"state\": \"Maharashtra\"}}\n",
    "\n",
    "\n",
    "17.\tDescribe the time complexity of accessing elements in a dictionary\n",
    "    \n",
    "    o\tThe time complexity of accessing an element in a dictionary is O(1) on average, which means it takes constant time regardless of the dictionary's size. This is because dictionaries are implemented as hash tables\n",
    "\n",
    "\n",
    "18.\tIn what situations are lists preferred over dictionaries\n",
    "    \n",
    "    o\tList are preferred for ordered collections and sequence operations, such as maintaining a stack or queue.\n",
    "\n",
    "\n",
    "19.\tWhy are dictionaries considered unordered, and how does that affect data retrieval\n",
    "    \n",
    "    o\tA dictionary is termed an unordered collection of objects because dictionaries do not maintain any inherent order of the items based on when they were added and the items do not have a defined order, you cannot refer to an item by using an index.\n",
    "\n",
    "\n",
    "20.\tExplain the difference between a list and a dictionary in terms of data retrieval.\n",
    "    \n",
    "    o\tA list is an ordered collection of items, whereas a dictionary is an unordered data collection in a key: value pair. Elements from the list can be accessed using the index, while the elements of the dictionary can be accessed using keys.\n",
    "\n",
    "'''"
   ]
  },
  {
   "cell_type": "code",
   "execution_count": null,
   "id": "2b1de75e",
   "metadata": {},
   "outputs": [
    {
     "name": "stdout",
     "output_type": "stream",
     "text": [
      "Nilesh Sinha\n"
     ]
    }
   ],
   "source": [
    "# 1. Write a code to create a string with your name and print it.\n",
    "name = str(\"Nilesh Sinha\")\n",
    "print(name)"
   ]
  },
  {
   "cell_type": "code",
   "execution_count": null,
   "id": "7d02c13e",
   "metadata": {},
   "outputs": [
    {
     "data": {
      "text/plain": [
       "11"
      ]
     },
     "execution_count": 76,
     "metadata": {},
     "output_type": "execute_result"
    }
   ],
   "source": [
    "# 2. Write a code to find the length of the string \"Hello World\"\n",
    "len(\"Hello World\")"
   ]
  },
  {
   "cell_type": "code",
   "execution_count": null,
   "id": "4f1dec66",
   "metadata": {},
   "outputs": [
    {
     "name": "stdout",
     "output_type": "stream",
     "text": [
      "Pyt\n"
     ]
    }
   ],
   "source": [
    "# 3. Write a code to slice the first 3 characters from the string \"Python Programming\"\n",
    "a = \"Python programming\"\n",
    "print(a[0:3])"
   ]
  },
  {
   "cell_type": "code",
   "execution_count": null,
   "id": "15873944",
   "metadata": {},
   "outputs": [
    {
     "name": "stdout",
     "output_type": "stream",
     "text": [
      "HELLO\n"
     ]
    }
   ],
   "source": [
    "# 4. Write a code to convert the string \"hello\" to uppercase\n",
    "b = \"hello\"\n",
    "print(b.upper())"
   ]
  },
  {
   "cell_type": "code",
   "execution_count": null,
   "id": "d4ca6570",
   "metadata": {},
   "outputs": [
    {
     "name": "stdout",
     "output_type": "stream",
     "text": [
      "I like apple\n",
      "I like orange\n"
     ]
    }
   ],
   "source": [
    "# 5. Write a code to replace the word \"apple\" with \"orange\" in the string \"I like apple\"\n",
    "d = \"I like apple\"\n",
    "print(d) # Print the original statement\n",
    "d=d.replace(\"apple\",\"orange\")\n",
    "print(d) # Print the revised statement"
   ]
  },
  {
   "cell_type": "code",
   "execution_count": null,
   "id": "f0e8c7d9",
   "metadata": {},
   "outputs": [
    {
     "name": "stdout",
     "output_type": "stream",
     "text": [
      "[1, 2, 3, 4, 5]\n"
     ]
    }
   ],
   "source": [
    "# 6. Write a code to create a list with numbers 1 to 5 and print it\n",
    "a = list(range(1,6))\n",
    "print(a)"
   ]
  },
  {
   "cell_type": "code",
   "execution_count": null,
   "id": "27845a79",
   "metadata": {},
   "outputs": [
    {
     "name": "stdout",
     "output_type": "stream",
     "text": [
      "[1, 2, 3, 4]\n",
      "[1, 2, 3, 4, 10]\n"
     ]
    }
   ],
   "source": [
    "# 7. Write a code to append the number 10 to the list [1, 2, 3, 4]\n",
    "list_1 = [1,2,3,4]\n",
    "print(list_1) # Print the original list\n",
    "list_1.append(10)\n",
    "print(list_1) # Print the revised list"
   ]
  },
  {
   "cell_type": "code",
   "execution_count": null,
   "id": "fa347a4f",
   "metadata": {},
   "outputs": [
    {
     "name": "stdout",
     "output_type": "stream",
     "text": [
      "[1, 2, 3, 4, 5]\n",
      "[1, 2, 4, 5]\n"
     ]
    }
   ],
   "source": [
    "# 8. Write a code to remove the number 3 from the list [1, 2, 3, 4, 5]\n",
    "list_2 = [1,2,3,4,5]\n",
    "print(list_2) # Print the original list\n",
    "list_2.remove(3)\n",
    "print(list_2) # Print the revised list"
   ]
  },
  {
   "cell_type": "code",
   "execution_count": null,
   "id": "a92343eb",
   "metadata": {},
   "outputs": [
    {
     "name": "stdout",
     "output_type": "stream",
     "text": [
      "b\n"
     ]
    }
   ],
   "source": [
    "# 9. Write a code to access the second element in the list ['a', 'b', 'c', 'd']\n",
    "list_3 = ['a','b','c','d']\n",
    "print(list_3[1])"
   ]
  },
  {
   "cell_type": "code",
   "execution_count": null,
   "id": "85fa7dbb",
   "metadata": {},
   "outputs": [
    {
     "name": "stdout",
     "output_type": "stream",
     "text": [
      "[50, 40, 30, 20, 10]\n"
     ]
    }
   ],
   "source": [
    "# 10. Write a code to reverse the list [10, 20, 30, 40, 50]\n",
    "list_4 = [10,20,30,40,50]\n",
    "print(list_4[::-1])"
   ]
  },
  {
   "cell_type": "code",
   "execution_count": null,
   "id": "5637480a",
   "metadata": {},
   "outputs": [
    {
     "name": "stdout",
     "output_type": "stream",
     "text": [
      "(100, 200, 300)\n"
     ]
    }
   ],
   "source": [
    "# 11. Write a code to create a tuple with the elements 100, 200, 300 and print it.\n",
    "tuple_1 = (100, 200, 300)\n",
    "print(tuple_1)"
   ]
  },
  {
   "cell_type": "code",
   "execution_count": null,
   "id": "b70a7169",
   "metadata": {},
   "outputs": [
    {
     "name": "stdout",
     "output_type": "stream",
     "text": [
      "blue\n"
     ]
    }
   ],
   "source": [
    "# 12. Write a code to access the second-to-last element of the tuple ('red', 'green', 'blue', 'yellow').\n",
    "tuple_2 =('red', 'green', 'blue', 'yellow')\n",
    "print(tuple_2[-2])"
   ]
  },
  {
   "cell_type": "code",
   "execution_count": null,
   "id": "9ca71db4",
   "metadata": {},
   "outputs": [
    {
     "data": {
      "text/plain": [
       "5"
      ]
     },
     "execution_count": 55,
     "metadata": {},
     "output_type": "execute_result"
    }
   ],
   "source": [
    "# 13. Write a code to find the minimum number in the tuple (10, 20, 5, 15).\n",
    "tuple_3 =(10,20,5,15)\n",
    "min(tuple_3)"
   ]
  },
  {
   "cell_type": "code",
   "execution_count": null,
   "id": "45998e66",
   "metadata": {},
   "outputs": [
    {
     "data": {
      "text/plain": [
       "1"
      ]
     },
     "execution_count": 58,
     "metadata": {},
     "output_type": "execute_result"
    }
   ],
   "source": [
    "# 14. Write a code to find the index of the element \"cat\" in the tuple ('dog', 'cat', 'rabbit').\n",
    "tuple_4 =('dog', 'cat', 'rabbit')\n",
    "tuple_4.index('cat')"
   ]
  },
  {
   "cell_type": "code",
   "execution_count": null,
   "id": "fa4ea15a",
   "metadata": {},
   "outputs": [
    {
     "name": "stdout",
     "output_type": "stream",
     "text": [
      "('apple', 'Kiwi', 'Banana')\n"
     ]
    },
    {
     "data": {
      "text/plain": [
       "True"
      ]
     },
     "execution_count": 61,
     "metadata": {},
     "output_type": "execute_result"
    }
   ],
   "source": [
    "# 15. Write a code to create a tuple containing three different fruits and check if \"kiwi\" is in it.\n",
    "tuple_5 = (\"apple\",\"Kiwi\", \"Banana\")\n",
    "print(tuple_5)\n",
    "\"Kiwi\" in tuple_5\n"
   ]
  },
  {
   "cell_type": "code",
   "execution_count": null,
   "id": "c4881cd9",
   "metadata": {},
   "outputs": [
    {
     "name": "stdout",
     "output_type": "stream",
     "text": [
      "{'b', 'a', 'c'}\n"
     ]
    }
   ],
   "source": [
    "# 16. Write a code to create a set with the elements 'a', 'b', 'c' and print it.\n",
    "set1 = {'a', 'b', 'c'}\n",
    "print(set1)"
   ]
  },
  {
   "cell_type": "code",
   "execution_count": null,
   "id": "09b66026",
   "metadata": {},
   "outputs": [
    {
     "name": "stdout",
     "output_type": "stream",
     "text": [
      "{1, 2, 3, 4, 5}\n",
      "set()\n"
     ]
    }
   ],
   "source": [
    "# 17. Write a code to clear all elements from the set {1, 2, 3, 4, 5}.\n",
    "set2 = {1,2,3,4,5}\n",
    "print(set2) # to show the elements in set.\n",
    "set2.clear()\n",
    "print(set2) # to show the clear function."
   ]
  },
  {
   "cell_type": "code",
   "execution_count": null,
   "id": "9b3c1ddb",
   "metadata": {},
   "outputs": [
    {
     "name": "stdout",
     "output_type": "stream",
     "text": [
      "{1, 2, 3, 4}\n",
      "{1, 2, 3}\n"
     ]
    }
   ],
   "source": [
    "# 18. Write a code to remove the element 4 from the set {1, 2, 3, 4}.\n",
    "set3 = {1,2,3,4,}\n",
    "print(set3) # to show the elements in set.\n",
    "set3.remove(4)\n",
    "print(set3) # to show the remove function."
   ]
  },
  {
   "cell_type": "code",
   "execution_count": null,
   "id": "7875e7ff",
   "metadata": {},
   "outputs": [
    {
     "data": {
      "text/plain": [
       "{1, 2, 3, 4, 5}"
      ]
     },
     "execution_count": 70,
     "metadata": {},
     "output_type": "execute_result"
    }
   ],
   "source": [
    "# 19. Write a code to find the union of two sets {1, 2, 3} and {3, 4, 5}.\n",
    "set4 = {1,2,3}\n",
    "set5 = {3,4,5}\n",
    "set4 | set5"
   ]
  },
  {
   "cell_type": "code",
   "execution_count": null,
   "id": "9c259e07",
   "metadata": {},
   "outputs": [
    {
     "data": {
      "text/plain": [
       "{2, 3}"
      ]
     },
     "execution_count": 71,
     "metadata": {},
     "output_type": "execute_result"
    }
   ],
   "source": [
    "# 20. Write a code to find the intersection of two sets {1, 2, 3} and {2, 3, 4}.\n",
    "set6 = {1,2,3}\n",
    "set7 = {2,3,4,}\n",
    "set6 & set7"
   ]
  },
  {
   "cell_type": "code",
   "execution_count": null,
   "id": "9e7adebe",
   "metadata": {},
   "outputs": [
    {
     "name": "stdout",
     "output_type": "stream",
     "text": [
      "{'Name': 'John', 'Age': '25', 'city': 'Mumbai'}\n"
     ]
    },
    {
     "data": {
      "text/plain": [
       "dict_keys(['Name', 'Age', 'city'])"
      ]
     },
     "execution_count": 78,
     "metadata": {},
     "output_type": "execute_result"
    }
   ],
   "source": [
    "# 21. Write a code to create a dictionary with the keys \"name\", \"age\", and \"city\", and print it.\n",
    "d1 = {\"Name\":\"John\",\"Age\":\"25\",\"city\":\"Mumbai\",} # Values are arbitrary \n",
    "print(d1) # for printing entire dictionary\n",
    "d1.keys() # for printing keys"
   ]
  },
  {
   "cell_type": "code",
   "execution_count": null,
   "id": "1dcfe3f3",
   "metadata": {},
   "outputs": [
    {
     "name": "stdout",
     "output_type": "stream",
     "text": [
      "{'Name': 'John', 'Age': '25'}\n",
      "{'Name': 'John', 'Age': '25', 'Country': 'USA'}\n"
     ]
    }
   ],
   "source": [
    "# 22. Write a code to add a new key-value pair \"country\": \"USA\" to the dictionary {'name': 'John', 'age': 25}.\n",
    "d2 = {\"Name\":\"John\",\"Age\":\"25\"}\n",
    "print(d2) # Print original list\n",
    "d2[\"Country\"] = \"USA\"\n",
    "print(d2) # Print list post addition of country"
   ]
  },
  {
   "cell_type": "code",
   "execution_count": null,
   "id": "61cbbefc",
   "metadata": {},
   "outputs": [
    {
     "data": {
      "text/plain": [
       "'Alice'"
      ]
     },
     "execution_count": 81,
     "metadata": {},
     "output_type": "execute_result"
    }
   ],
   "source": [
    "# 23. Write a code to access the value associated with the key \"name\" in the dictionary {'name': 'Alice', 'age': 30}.\n",
    "d3 = {\"Name\":\"Alice\",\"Age\":\"30\"}\n",
    "d3.get(\"Name\")"
   ]
  },
  {
   "cell_type": "code",
   "execution_count": null,
   "id": "be7f6b72",
   "metadata": {},
   "outputs": [
    {
     "name": "stdout",
     "output_type": "stream",
     "text": [
      "{'Name': 'Bob', 'Age': '22', 'city': 'New York'}\n",
      "{'Name': 'Bob', 'city': 'New York'}\n"
     ]
    }
   ],
   "source": [
    "# 24. Write a code to remove the key \"age\" from the dictionary {'name': 'Bob', 'age': 22, 'city': 'New York'}\n",
    "d4 = {\"Name\":\"Bob\",\"Age\":\"22\",\"city\":\"New York\"}\n",
    "print(d4) # Printing of original list\n",
    "d4.pop(\"Age\")\n",
    "print(d4) # Printing of list after removing age\n"
   ]
  },
  {
   "cell_type": "code",
   "execution_count": null,
   "id": "aca6a993",
   "metadata": {},
   "outputs": [
    {
     "data": {
      "text/plain": [
       "True"
      ]
     },
     "execution_count": 86,
     "metadata": {},
     "output_type": "execute_result"
    }
   ],
   "source": [
    "# 25. Write a code to check if the key \"city\" exists in the dictionary {'name': 'Alice', 'city': 'Paris'}.\n",
    "d5 = {'name': 'Alice', 'city': 'Paris'}\n",
    "\"city\" in d5"
   ]
  },
  {
   "cell_type": "code",
   "execution_count": null,
   "id": "57e40a89",
   "metadata": {},
   "outputs": [
    {
     "name": "stdout",
     "output_type": "stream",
     "text": [
      "<class 'list'>\n",
      "[1, 2.4, 'Cat', True]\n",
      "<class 'tuple'>\n",
      "(3, 5.3, 'Dog', False)\n",
      "<class 'dict'>\n",
      "{'First Name': 'Nilesh', 'Last Name': 'Sinha'}\n"
     ]
    }
   ],
   "source": [
    "# 26. Write a code to create a list, a tuple, and a dictionary, and print them all.\n",
    "list_5 = [1,2.4,\"Cat\",True]\n",
    "tuple_6 = (3,5.3,\"Dog\",False)\n",
    "dict_1 = {\"First Name\": \"Nilesh\", \"Last Name\":\"Sinha\"}\n",
    "print(type(list_5))\n",
    "print(list_5)\n",
    "print(type(tuple_5))\n",
    "print(tuple_6)\n",
    "print(type(dict_1))\n",
    "print(dict_1)"
   ]
  },
  {
   "cell_type": "code",
   "execution_count": null,
   "id": "b1329a15",
   "metadata": {},
   "outputs": [
    {
     "name": "stdout",
     "output_type": "stream",
     "text": [
      "[25, 35, 68, 72, 80]\n",
      "[25, 35, 68, 72, 80]\n"
     ]
    }
   ],
   "source": [
    "# 27. Write a code to create a list of 5 random numbers between 1 and 100, sort it in ascending order, and print the result.(replaced)\n",
    "random_num = [80,35,68,25,72]\n",
    "print(sorted(random_num)) # For dispaly only list will remain unchanged.\n",
    "random_num.sort() # For sorting in the list and list will be modified.\n",
    "print(random_num)\n"
   ]
  },
  {
   "cell_type": "code",
   "execution_count": null,
   "id": "101f6dc1",
   "metadata": {},
   "outputs": [
    {
     "name": "stdout",
     "output_type": "stream",
     "text": [
      "y\n"
     ]
    }
   ],
   "source": [
    "# 28. Write a code to create a list with strings and print the element at the third index.\n",
    "list2 = [\"a\",\"c\",\"z,\",\"y\",\"f\",\"g\"]\n",
    "print(list2[3]) # printing of third index a=0, c=1, z=2 y=3."
   ]
  },
  {
   "cell_type": "code",
   "execution_count": null,
   "id": "09411d8f",
   "metadata": {},
   "outputs": [
    {
     "name": "stdout",
     "output_type": "stream",
     "text": [
      "{'Name': 'Nilesh', 'City': 'Mumbai', 'State': 'Maharashtra', 'Country': 'India'}\n"
     ]
    }
   ],
   "source": [
    "# 29. Write a code to combine two dictionaries into one and print the result.\n",
    "d6 = {\"Name\":\"Nilesh\",\"City\":\"Mumbai\"}\n",
    "d7 = {\"State\":\"Maharashtra\",\"Country\":\"India\"}\n",
    "d6.update(d7)\n",
    "print(d6)"
   ]
  },
  {
   "cell_type": "code",
   "execution_count": null,
   "id": "9f78d0c2",
   "metadata": {},
   "outputs": [
    {
     "name": "stdout",
     "output_type": "stream",
     "text": [
      "{'apple', 'cat', 'fruit', 'gift'}\n"
     ]
    }
   ],
   "source": [
    "# 30. Write a code to convert a list of strings into a set\n",
    "list3 = [\"apple\",\"cat\",\"fruit\",\"gift\",\"apple\"]\n",
    "set8 = set(list3)\n",
    "print(set8)"
   ]
  }
 ],
 "metadata": {
  "kernelspec": {
   "display_name": "base",
   "language": "python",
   "name": "python3"
  },
  "language_info": {
   "codemirror_mode": {
    "name": "ipython",
    "version": 3
   },
   "file_extension": ".py",
   "mimetype": "text/x-python",
   "name": "python",
   "nbconvert_exporter": "python",
   "pygments_lexer": "ipython3",
   "version": "3.12.7"
  }
 },
 "nbformat": 4,
 "nbformat_minor": 5
}
