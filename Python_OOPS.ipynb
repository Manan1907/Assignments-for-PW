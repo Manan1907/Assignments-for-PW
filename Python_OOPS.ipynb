{
  "nbformat": 4,
  "nbformat_minor": 0,
  "metadata": {
    "colab": {
      "provenance": []
    },
    "kernelspec": {
      "name": "python3",
      "display_name": "Python 3"
    },
    "language_info": {
      "name": "python"
    }
  },
  "cells": [
    {
      "cell_type": "markdown",
      "source": [
        "1.\t**What is Object-Oriented Programming (OOP)**\n",
        "\n",
        "  o\tObject-oriented programming (OOP) is defined as a programming paradigm (and not a specific language) built on the concept of objects, i.e., a set of data contained in fields, and code, indicating procedures.\n",
        "---------------------------------------------------------------------------------------------------------------------------------------------------\n",
        "2.\t**What is a class in OOP**\n",
        "\n",
        "  o\tClasses are blueprint / template for creating an object.  It encapsulates data (attributes) and behaviour (methods) into a single unit. Classes define the structure and functionality that objects of that class will possess.\n",
        "---------------------------------------------------------------------------------------------------------------------------------------------------\n",
        "3.\t**What is an object in OOP**\n",
        "\n",
        "  o\tAn object is a fundamental concept in object-oriented programming (OOP). It represents a specific instance of a class, which is a blueprint for creating objects. An object encapsulates data (attributes) and behaviour (methods) that operate on that data.\n",
        "----------------------------------------------------------------------------------------------------------------------------------------------------\n",
        "4.\t**What is the difference between abstraction and encapsulation**\n",
        "\n",
        "  o\tAbstraction focuses on presenting only the essential features of an object, hiding complex implementation details. Encapsulation, on the other hand, bundles data and the methods that operate on that data, restricting direct access to protect data integrity.\n",
        "-----------------------------------------------------------------------------------------------------------------------------------------------------\n",
        "5.\t**What are dunder methods in Python**\n",
        "\n",
        "  o\tDunder methods, also known as magic methods, are special methods in Python that begin and end with double underscores (e.g., __init__, __str__, __len__). They allow classes to define how they behave with built-in functions and operators. When a dunder method is defined in a class, it overrides the default behaviour of that method for instances of the class. Python automatically calls these methods in response to specific actions.\n",
        "-----------------------------------------------------------------------------------------------------------------------------------------------------\n",
        "6.\t**Explain the concept of inheritance in OOP**\n",
        "\n",
        "  o\tInheritance in object-oriented programming is a mechanism where a new class (subclass or child class) can inherit properties and methods from an existing class (superclass or parent class). This enables code reuse and creates a hierarchical relationship between classes, where subclasses can extend or modify the behaviour of their parent class.\n",
        "-----------------------------------------------------------------------------------------------------------------------------------------------------\n",
        "7.\t**What is polymorphism in OOP**\n",
        "\n",
        "  o\tIn Object-Oriented Programming (OOP), polymorphism allows objects of different classes to be treated as objects of a common type, enabling flexible and reusable code. It essentially means \"many forms,\" allowing the same method name to be used for different actions depending on the object type.\n",
        "-----------------------------------------------------------------------------------------------------------------------------------------------------\n",
        "8.\t**How is encapsulation achieved in Python**\n",
        "\n",
        "  o\tEncapsulation in Python is achieved by restricting access to attributes and methods, preventing accidental modification and ensuring data integrity. It is implemented through access modifiers, primarily using naming conventions with underscores.\n",
        "\n",
        "-----------------------------------------------------------------------------------------------------------------------------------------------------\n",
        "9.\t**What is a constructor in Python**\n",
        "\n",
        "  o\tA constructor in Python is a special method within a class that initializes the attributes of an object when the object is created. It is automatically called when an instance of the class is instantiated. The constructor's name is always __init__, and it takes self as its first parameter, referring to the instance being created, along with any other parameters needed to initialize the object's attributes.\n",
        "-----------------------------------------------------------------------------------------------------------------------------------------------------\n",
        "10.\t**What are class and static methods in Python**\n",
        "\n",
        "  o\tClass methods and static methods are distinct types of methods within a Python class, each serving specific purposes. They differ from instance methods, which are the most common type and operate on specific instances of a class.\n",
        "      ***Class Methods:***\n",
        "    1. They are bound to the class and not the instance of the class.\n",
        "\n",
        "    2. They take the class itself as the first argument, conventionally named cls.\n",
        "\n",
        "    3. They can access and modify class-level attributes.\n",
        "    \n",
        "    4. They are defined using the @classmethod decorator.\n",
        "\n",
        "      ***Static Methods:***\n",
        "\n",
        "    1. They are also bound to the class and not the instance.\n",
        "\n",
        "    2. They do not take self or cls as their first argument.\n",
        "\n",
        "    3. They cannot access or modify class or instance attributes directly.\n",
        "\n",
        "    4. They are essentially functions that are grouped within a class for logical organization.\n",
        "\n",
        "    5. They are defined using the @staticmethod decorator.\n",
        "\n",
        "-----------------------------------------------------------------------------------------------------------------------------------------------------\n",
        "11.\t**What is method overloading in Python**\n",
        "\n",
        "  o\tMethod overloading in Python refers to the possibility of defining multiple methods with the same name within a class, where each method has a different signature (number or type of arguments).\n",
        "\n",
        "-----------------------------------------------------------------------------------------------------------------------------------------------------\n",
        "12.\t**What is method overriding in OOP**\n",
        "\n",
        "  o\tMethod overriding allows a subclass to provide a specific implementation of a method already defined in its superclass. This is a key part of polymorphism, enabling different objects to respond differently to the same method call based on their class. Essentially, a subclass can redefine a method inherited from its parent class, customizing its behavior to suit the subclass's specific needs.\n",
        "-----------------------------------------------------------------------------------------------------------------------------------------------------\n",
        "13.\t**What is a property decorator in Python**\n",
        "\n",
        "  o\tProperty decorator is a built-in feature that allows methods to be accessed like attributes. It provides a way to encapsulate the logic for getting, setting, and deleting an attribute within a class, without requiring explicit method calls. This mechanism facilitates controlled access and modification of class attributes, enhancing code maintainability and data integrity. The @property decorator is primarily used to manage attributes with getter, setter, and deleter methods. These methods define how the attribute's value is retrieved, modified, and deleted, respectively. By using @property, developers can implement custom logic, such as validation or computation, when interacting with an attribute, while maintaining a clean and intuitive syntax.\n",
        "-----------------------------------------------------------------------------------------------------------------------------------------------------\n",
        "14.\t**Why is polymorphism important in OOP**\n",
        "\n",
        "  o\tPolymorphism is crucial in Object-Oriented Programming (OOP) because it enables objects of different classes to be treated as objects of a common type, promoting code reusability, flexibility, and maintainability. It allows for a single interface to be used for different operations, while each class can implement it in its own specific way.\n",
        "-----------------------------------------------------------------------------------------------------------------------------------------------------\n",
        "15.\t**What is an abstract class in Python**\n",
        "\n",
        "  o\tAn abstract class in Python is a class that cannot be instantiated directly and serves as a blueprint for other classes. It defines a common interface for a group of related classes, ensuring that subclasses implement specific methods. Abstract classes are created using the abc (Abstract Base Classes) module and may contain abstract methods, which are declared but lack implementation in the abstract class. Subclasses are then required to provide concrete implementations for these abstract methods.\n",
        "\n",
        "-----------------------------------------------------------------------------------------------------------------------------------------------------\n",
        "16.\t**What are the advantages of OOP**\n",
        "\n",
        "  o\tHere are the advantages of using Object-Oriented Programming (OOP) in Python:\n",
        "\n",
        "  1. Modularity:\n",
        "    \n",
        "  OOP enables the breakdown of complex systems into smaller, self-contained objects. This makes troubleshooting and collaborative development easier because objects can be developed and tested independently.\n",
        "    \n",
        "  2. Reusability:\n",
        "\n",
        "  Through inheritance, code can be reused, eliminating the need to manually develop the same code multiple times. This saves time and effort, making the program more efficient.\n",
        "  \n",
        "  3. Productivity:\n",
        "  \n",
        "  OOP allows programmers to build programs using existing packages and libraries, which speeds up development and boosts productivity.\n",
        "    \n",
        "  4. Scalability:\n",
        "  \n",
        "  New features and functionalities can be added without major code modifications, making it easier to scale applications.\n",
        "  \n",
        "  5. Security:\n",
        "\n",
        "  Data hiding and abstraction mechanisms in OOP help keep applications secure by filtering out limited data and ensuring that only necessary information is visible to users.\n",
        "  \n",
        "  6. Flexibility:\n",
        "  \n",
        "  Polymorphism allows objects of different classes to be treated as objects of a common type, providing flexibility in code design and implementation.\n",
        "  \n",
        "  7. Code Maintenance:\n",
        "  \n",
        "  OOP promotes a clear structure and separation of concerns, making code easier to maintain, debug, and update. Changes in one part of the code are less likely to affect other parts.\n",
        "  \n",
        "  8. Improved Readability:\n",
        "  \n",
        "  OOP organizes code into logical units (classes), making it easier to understand, navigate, and maintain.\n",
        "  \n",
        "  9. Effective Problem Solving:\n",
        "  \n",
        "  OOP facilitates the breakdown of problems into smaller, manageable parts, making it easier to design and debug complex software systems.\n",
        "  \n",
        "  10. Data Privacy:\n",
        "  \n",
        "  Encapsulation ensures data privacy and security by bundling data and methods that operate on that data within a class, controlling access from outside the class.\n",
        "-----------------------------------------------------------------------------------------------------------------------------------------------------\n",
        "17.\t**What is the difference between a class variable and an instance variable**\n",
        "\n",
        "  o\tThe key difference between a class variable (also known as a static variable) and an instance variable is their scope and how they are shared. Class variables are shared across all instances of a class, meaning they have only one copy regardless of how many objects are created from that class. Instance variables, on the other hand, are unique to each instance of the class, with each object having its own separate copy.\n",
        "-----------------------------------------------------------------------------------------------------------------------------------------------------\n",
        "18.\t**What is multiple inheritance in Python**\n",
        "\n",
        "  o\tMultiple inheritance in Python is a feature that allows a class to inherit attributes and methods from more than one parent class. This enables a class to combine functionalities from different sources, creating more complex and versatile class structures. When a class inherits from multiple parent classes, it gains access to all the attributes and methods of those parent classes.\n",
        "-----------------------------------------------------------------------------------------------------------------------------------------------------\n",
        "19.\t**Explain the purpose of ‘’__str__’ and ‘__repr__’ ‘ methods in Python**\n",
        "\n",
        "  o\tIn Python, __str__ and __repr__ are special methods used to define how objects are represented as strings. While both serve this purpose, they are intended for different audiences and use cases.\n",
        "\n",
        "  \"__str__\": This method provides a user-friendly, informal string representation of an object. It is called by the built-in str() function and implicitly when using print(). The goal of __str__ is readability, offering a clear and concise description for end-users. If __str__ is not defined, Python falls back to using __repr__.\n",
        "\n",
        "  \"__repr__\": This method provides a developer-friendly, unambiguous string representation of an object. It is called by the built-in repr() function and in the interactive interpreter. The goal of __repr__ is to be informative and, ideally, allow the object to be recreated. It's primarily used for debugging and logging. If __repr__ is not defined, the default representation is used, which is less informative.\n",
        "-----------------------------------------------------------------------------------------------------------------------------------------------------\n",
        "20.\t**What is the significance of the ‘super()’ function in Python**\n",
        "\n",
        "  o\tThe super() function in Python is used to call methods from a parent class in a subclass. It plays a crucial role in inheritance, allowing subclasses to extend and override the functionality of their parent classes while still being able to access the original methods.\n",
        "-----------------------------------------------------------------------------------------------------------------------------------------------------\n",
        "21.\t**What is the significance of the __del__ method in Python**\n",
        "\n",
        "  o\tThe __del__ method in Python, also known as a destructor, is a special method called when an object is about to be destroyed. It provides an opportunity to perform cleanup actions, such as releasing external resources or finalizing operations, before the object's memory is reclaimed\n",
        "-----------------------------------------------------------------------------------------------------------------------------------------------------\n",
        "22.\t**What is the difference between @staticmethod and @classmethod in Python**\n",
        "\n",
        "  o\tThe primary distinction between @staticmethod and @classmethod in Python lies in their interaction with the class and its instances:\n",
        "\n",
        "  •\t@staticmethod:\n",
        "\n",
        "  This decorator defines a method that is independent of both the class and its instances. It neither requires nor receives implicit arguments related to the class or instance. It behaves like a regular function, but is logically grouped within the class.\n",
        "\n",
        "  •\t@classmethod:\n",
        "\n",
        "  This decorator defines a method that is bound to the class, not the instance. It receives the class itself as the first argument, conventionally named cls. This allows the method to access and modify class-level attributes and call other class methods.\n",
        "-----------------------------------------------------------------------------------------------------------------------------------------------------\n",
        "23.\t**How does polymorphism work in Python with inheritance**\n",
        "\n",
        "  o\tPolymorphism, meaning \"many forms,\" enables objects of different classes to respond to the same method call in their own specific ways. When combined with inheritance in Python, it allows subclasses to override or implement methods of their parent classes, creating a flexible and dynamic system.\n",
        "-----------------------------------------------------------------------------------------------------------------------------------------------------\n",
        "24.\t**What is method chaining in Python OOP**\n",
        "\n",
        "  o\tMethod chaining in Python is a programming technique used in object-oriented programming (OOP) that allows multiple methods to be called sequentially on the same object in a single line of code.\n",
        "-----------------------------------------------------------------------------------------------------------------------------------------------------\n",
        "25.\t**What is the purpose of the __call__ method in Python**\n",
        "\n",
        "  o\tThe __call__ method in Python enables instances of a class to be called like regular functions. When a class defines the __call__ method, its instances become callable objects. This means that you can apply the function call syntax () directly to an instance of the class, triggering the execution of the code within the __call__ method.\n",
        "-----------------------------------------------------------------------------------------------------------------------------------------------------\n"
      ],
      "metadata": {
        "id": "9a5vh7ijcLp0"
      }
    },
    {
      "cell_type": "code",
      "execution_count": 2,
      "metadata": {
        "colab": {
          "base_uri": "https://localhost:8080/"
        },
        "id": "Cgi2iXD3cIW2",
        "outputId": "fba6d0b2-d4cf-4f66-cb28-e332e5075b71"
      },
      "outputs": [
        {
          "output_type": "stream",
          "name": "stdout",
          "text": [
            "Bark!\n"
          ]
        }
      ],
      "source": [
        "#1. Create a parent class Animal with a method speak() that prints a generic message.Create a child class Dog that overrides the speak() method to print \"Bark!\".\n",
        "\n",
        "class Animal:\n",
        "    def speak(self):\n",
        "        print(\"Generic animal sound\")\n",
        "\n",
        "class Dog(Animal):\n",
        "    def speak(self):\n",
        "        print(\"Bark!\")\n",
        "\n",
        "d = Dog()\n",
        "d.speak()\n"
      ]
    },
    {
      "cell_type": "code",
      "source": [
        "#2. Write a program to create an abstract class Shape with a method area(). Derive classes Circle and Rectangle from it and implement the area() method in both.\n",
        "\n",
        "class Shape:\n",
        "    def area(self):\n",
        "        pass\n",
        "\n",
        "class Circle(Shape):\n",
        "    def __init__(self, radius):\n",
        "        self.radius = radius\n",
        "\n",
        "\n",
        "    def area(self):\n",
        "        return 3.14 * self.radius * self.radius\n",
        "\n",
        "class Rectangle(Shape):\n",
        "    def __init__(self, length, width):\n",
        "        self.length = length\n",
        "        self.width = width\n",
        "\n",
        "    def area(self):\n",
        "        return self.length * self.width\n",
        "\n",
        "\n",
        "c = Circle(5)\n",
        "print(c.area())\n",
        "\n",
        "r = Rectangle(4, 6)\n",
        "print(r.area())\n"
      ],
      "metadata": {
        "colab": {
          "base_uri": "https://localhost:8080/"
        },
        "id": "5-kIwxKHoOX9",
        "outputId": "c438d7ab-7b5d-44f6-bb00-32df0d6aaa71"
      },
      "execution_count": 3,
      "outputs": [
        {
          "output_type": "stream",
          "name": "stdout",
          "text": [
            "78.5\n",
            "24\n"
          ]
        }
      ]
    },
    {
      "cell_type": "code",
      "source": [
        "#3. Implement a multi-level inheritance scenario where a class Vehicle has an attribute type. Derive a class Car and further derive a class ElectricCar that adds a battery attribute.\n",
        "\n",
        "class Vehicle:\n",
        "    def __init__(self, type):\n",
        "        self.type = type\n",
        "\n",
        "class Car(Vehicle):\n",
        "    def __init__(self, type, model):\n",
        "        super().__init__(type)\n",
        "        self.model = model\n",
        "\n",
        "class electriccar(Car):\n",
        "    def __init__(self, type, model, battery):\n",
        "        super().__init__(type, model)\n",
        "        self.battery = battery\n",
        "\n",
        "ec = electriccar(\"Electric\", \"Model X\", \"Li-ion\")\n",
        "print(ec.type)\n",
        "print(ec.model)\n",
        "print(ec.battery)\n"
      ],
      "metadata": {
        "colab": {
          "base_uri": "https://localhost:8080/"
        },
        "id": "XUZF-wsrcSXg",
        "outputId": "f53e84de-6be8-48bb-fbaa-93d826845892"
      },
      "execution_count": 62,
      "outputs": [
        {
          "output_type": "stream",
          "name": "stdout",
          "text": [
            "Electric\n",
            "Model S\n",
            "Li-ion\n"
          ]
        }
      ]
    },
    {
      "cell_type": "code",
      "source": [
        "#4. Demonstrate polymorphism by creating a base class Bird with a method fly(). Create two derived classes Sparrow and Penguin that override the fly() method.\n",
        "\n",
        "class Bird:\n",
        "    def fly(self):\n",
        "        print(\"Generic bird flying\")\n",
        "\n",
        "class Sparrow(Bird):\n",
        "    def fly(self):\n",
        "        print(\"Sparrow flying\")\n",
        "\n",
        "class Penguin(Bird):\n",
        "    def fly(self):\n",
        "        print(\"Penguin cannot fly\")\n",
        "\n",
        "p = Penguin()\n",
        "p.fly()\n",
        "\n",
        "s = Sparrow()\n",
        "s.fly()\n"
      ],
      "metadata": {
        "colab": {
          "base_uri": "https://localhost:8080/"
        },
        "id": "DjSOKgbxcSPb",
        "outputId": "d680b092-0e6c-46fd-d9cd-0bcf96967899"
      },
      "execution_count": 16,
      "outputs": [
        {
          "output_type": "stream",
          "name": "stdout",
          "text": [
            "Penguin cannot fly\n",
            "Sparrow flying\n"
          ]
        }
      ]
    },
    {
      "cell_type": "code",
      "source": [
        "#5. Write a program to demonstrate encapsulation by creating a class BankAccount with private attributes balance and methods to deposit, withdraw, and check balance.\n",
        "\n",
        "class BankAccount:\n",
        "    def __init__(self, account_holder, balance):\n",
        "        self.account_holder =  account_holder\n",
        "        self.__balance = balance #private\n",
        "\n",
        "    def deposit(self, amount):\n",
        "        if amount > 0:\n",
        "            self.__balance += amount\n",
        "        else:\n",
        "            print(\"invalid amount\")\n",
        "\n",
        "    def withdraw(self, amount):\n",
        "        if 0<amount<=self.__balance:\n",
        "            self.__balance -= amount\n",
        "        else:\n",
        "            print(\"invalid withdrawal\")\n",
        "\n",
        "    def get_balance(self):\n",
        "        return self.__balance\n",
        "\n",
        "account = BankAccount(\"Nilesh Sinha\", 10000)\n",
        "print(account.get_balance())\n",
        "\n",
        "account.deposit(5000)\n",
        "print(account.get_balance())\n",
        "\n",
        "account.withdraw(2000)\n",
        "print(account.get_balance())"
      ],
      "metadata": {
        "colab": {
          "base_uri": "https://localhost:8080/"
        },
        "id": "Toau7RA0cSBp",
        "outputId": "8ac7f051-8e2c-4009-f133-2fb84e9a3939"
      },
      "execution_count": 18,
      "outputs": [
        {
          "output_type": "stream",
          "name": "stdout",
          "text": [
            "10000\n",
            "15000\n",
            "13000\n"
          ]
        }
      ]
    },
    {
      "cell_type": "code",
      "source": [
        "#6. Demonstrate runtime polymorphism using a method play() in a base class Instrument. Derive classes Guitar and Piano that implement their own version of play().\n",
        "\n",
        "class Instrument:\n",
        "    def play(self):\n",
        "        print(\"Instrument is playing\")\n",
        "\n",
        "class Guitar(Instrument):\n",
        "    def play(self):\n",
        "        print(\"Guitar is playing\")\n",
        "\n",
        "class Piano(Instrument):\n",
        "    def play(self):\n",
        "        print(\"Piano is playing\")\n",
        "\n",
        "\n",
        "g = Guitar()\n",
        "g.play()\n",
        "\n",
        "p = Piano()\n",
        "p.play()\n"
      ],
      "metadata": {
        "colab": {
          "base_uri": "https://localhost:8080/"
        },
        "id": "RUYoj3y1lt6x",
        "outputId": "abba8a73-4322-4c6b-c7b7-d5bf151c237c"
      },
      "execution_count": 19,
      "outputs": [
        {
          "output_type": "stream",
          "name": "stdout",
          "text": [
            "Guitar is playing\n",
            "Piano is playing\n"
          ]
        }
      ]
    },
    {
      "cell_type": "code",
      "source": [
        "#7. Create a class MathOperations with a class method add_numbers() to add two numbers and a static method subtract_numbers() to subtract two numbers.\n",
        "\n",
        "class MathOperations:\n",
        "    @classmethod\n",
        "    def add_numbers(cls, a, b):\n",
        "        return a + b\n",
        "\n",
        "    @staticmethod\n",
        "    def subtract_numbers(a, b):\n",
        "        return a - b\n",
        "\n",
        "print(MathOperations.add_numbers(5, 3))\n",
        "print(MathOperations.subtract_numbers(10, 4))\n"
      ],
      "metadata": {
        "colab": {
          "base_uri": "https://localhost:8080/"
        },
        "id": "9BlRoVkflt20",
        "outputId": "a1592a71-185a-44ce-a433-8530b31d2098"
      },
      "execution_count": 20,
      "outputs": [
        {
          "output_type": "stream",
          "name": "stdout",
          "text": [
            "8\n",
            "6\n"
          ]
        }
      ]
    },
    {
      "cell_type": "code",
      "source": [
        "#8. Implement a class Person with a class method to count the total number of persons created.\n",
        "\n",
        "class person ():\n",
        "    count = 0\n",
        "    def __init__(self, name):\n",
        "        self.name = name\n",
        "        person.count += 1\n",
        "\n",
        "    @classmethod\n",
        "    def total_persons(cls):\n",
        "        return cls.count\n",
        "\n",
        "person1 = person(\"Nilesh\")\n",
        "person2 = person(\"Amitabh\")\n",
        "person3 = person(\"Katrina\")\n",
        "print(person.total_persons())"
      ],
      "metadata": {
        "colab": {
          "base_uri": "https://localhost:8080/"
        },
        "id": "aWRTwTVBltzp",
        "outputId": "c02c480d-e32a-482c-cf9b-1292afcecc29"
      },
      "execution_count": 27,
      "outputs": [
        {
          "output_type": "stream",
          "name": "stdout",
          "text": [
            "3\n"
          ]
        }
      ]
    },
    {
      "cell_type": "code",
      "source": [
        "#9. Write a class Fraction with attributes numerator and denominator. Override the str method to display the fraction as \"numerator/denominator\".\n",
        "\n",
        "class Fraction:\n",
        "    def __init__(self, numerator, denominator):\n",
        "        self.numerator = numerator\n",
        "        self.denominator = denominator\n",
        "\n",
        "    def __str__(self):\n",
        "        return f\"{self.numerator}/{self.denominator}\"\n",
        "\n",
        "num = Fraction(6, 7)\n",
        "print(num)\n"
      ],
      "metadata": {
        "colab": {
          "base_uri": "https://localhost:8080/"
        },
        "id": "BObIwFl2xkVe",
        "outputId": "b7951230-0f6e-42ab-c343-ffedd774bfa0"
      },
      "execution_count": 31,
      "outputs": [
        {
          "output_type": "stream",
          "name": "stdout",
          "text": [
            "6/7\n"
          ]
        }
      ]
    },
    {
      "cell_type": "code",
      "source": [
        "#10. Demonstrate operator overloading by creating a class Vector and overriding the add method to add two vectors.\n",
        "\n",
        "class vector:\n",
        "    def __init__(self, x, y):\n",
        "        self.x = x\n",
        "        self.y = y\n",
        "\n",
        "    def __add__(self, other):\n",
        "        return vector(self.x + other.x, self.y + other.y)\n",
        "\n",
        "    def __str__(self):\n",
        "        return f\"({self.x}, {self.y})\"\n",
        "\n",
        "v1 = vector(5, 7)\n",
        "v2 = vector(9, 2)\n",
        "v3 = v1 + v2\n",
        "print(v3)\n"
      ],
      "metadata": {
        "colab": {
          "base_uri": "https://localhost:8080/"
        },
        "id": "AWFIfM7slttO",
        "outputId": "7e160809-65c0-4d7f-a58f-3a8e39eb2493"
      },
      "execution_count": 69,
      "outputs": [
        {
          "output_type": "stream",
          "name": "stdout",
          "text": [
            "(14, 9)\n"
          ]
        }
      ]
    },
    {
      "cell_type": "code",
      "source": [
        "#11. Create a class Person with attributes name and age. Add a method greet() that prints \"Hello, my name is {name} and I am {age} years old.\"\n",
        "\n",
        "class person():\n",
        "  def __init__(self, name, age):\n",
        "    self.name = name\n",
        "    self.age = age\n",
        "\n",
        "  def greet(self):\n",
        "    print(f\"Hello, my name is {self.name} and I am {self.age} years old.\")\n",
        "\n",
        "person1 = person(\"Nilesh\", 50)\n",
        "person1.greet()"
      ],
      "metadata": {
        "colab": {
          "base_uri": "https://localhost:8080/"
        },
        "id": "VRcNw6VGzrNG",
        "outputId": "2658ad60-d14b-4cbb-d473-69f297074afd"
      },
      "execution_count": 44,
      "outputs": [
        {
          "output_type": "stream",
          "name": "stdout",
          "text": [
            "Hello, my name is Nilesh and I am 50 years old.\n"
          ]
        }
      ]
    },
    {
      "cell_type": "code",
      "source": [
        "#12. Implement a class Student with attributes name and grades. Create a method average_grade() to compute the average of the grades.\n",
        "\n",
        "class Student:\n",
        "    def __init__(self, name, grades):\n",
        "        self.name = name\n",
        "        self.grades = grades\n",
        "\n",
        "    def average_grade(self):\n",
        "        return sum(self.grades) / len(self.grades)\n",
        "\n",
        "\n",
        "student1 = Student(\"Nilesh\", [90,80,70,85])\n",
        "print(student1.average_grade())"
      ],
      "metadata": {
        "colab": {
          "base_uri": "https://localhost:8080/"
        },
        "id": "24rqUsm71Zli",
        "outputId": "a084d1ed-72f8-49d7-bf85-58f5ccc8770e"
      },
      "execution_count": 48,
      "outputs": [
        {
          "output_type": "stream",
          "name": "stdout",
          "text": [
            "81.25\n"
          ]
        }
      ]
    },
    {
      "cell_type": "code",
      "source": [
        "#13. Create a class Rectangle with methods set_dimensions() to set the dimensions and area() to calculate the area.\n",
        "\n",
        "class Rectangle:\n",
        "    def __init__(self, length, width):\n",
        "        self.length = length\n",
        "        self.width = width\n",
        "\n",
        "class Rectangle:\n",
        "    def set_dimensions(self, length, width):\n",
        "        self.length = length\n",
        "        self.width = width\n",
        "\n",
        "    def area(self):\n",
        "        return self.length * self.width\n",
        "\n",
        "rect = Rectangle()\n",
        "rect.set_dimensions(5, 7)\n",
        "print(rect.area())\n"
      ],
      "metadata": {
        "colab": {
          "base_uri": "https://localhost:8080/"
        },
        "id": "cxR4x7YbltiY",
        "outputId": "b2ccece9-172f-40d8-e033-a1ba0a4f4bb6"
      },
      "execution_count": 51,
      "outputs": [
        {
          "output_type": "stream",
          "name": "stdout",
          "text": [
            "35\n"
          ]
        }
      ]
    },
    {
      "cell_type": "code",
      "source": [
        "#14. Create a class Employee with a method calculate_salary() that computes the salary based on hours worked and hourly rate. Create a derived class Manager that adds a bonus to the salary.\n",
        "\n",
        "class Employee():\n",
        "    def __init__(self, name, hours_worked, hourly_rate):\n",
        "        self.name = name\n",
        "        self.hours_worked = hours_worked\n",
        "        self.hourly_rate = hourly_rate\n",
        "\n",
        "    def calculate_salary(self):\n",
        "        return self.hours_worked * self.hourly_rate\n",
        "\n",
        "class Manager(Employee):\n",
        "    def __init__(self, name, hours_worked, hourly_rate, bonus):\n",
        "        super().__init__(name, hours_worked, hourly_rate)\n",
        "        self.bonus = bonus\n",
        "\n",
        "    def calculate_salary(self):\n",
        "        return super().calculate_salary() + self.bonus\n",
        "\n",
        "manager = Manager(\"Nilesh\", 40, 50, 1000)\n",
        "print(manager.calculate_salary())\n",
        "\n"
      ],
      "metadata": {
        "colab": {
          "base_uri": "https://localhost:8080/"
        },
        "id": "Hyje8-6flte4",
        "outputId": "7718a4fa-b460-4a9b-b257-2a1f50ef6aee"
      },
      "execution_count": 52,
      "outputs": [
        {
          "output_type": "stream",
          "name": "stdout",
          "text": [
            "3000\n"
          ]
        }
      ]
    },
    {
      "cell_type": "code",
      "source": [
        "#15. Create a class Product with attributes name, price, and quantity. Implement a method total_price() that calculates the total price of the product.\n",
        "\n",
        "class product():\n",
        "    def __init__(self, name, price, quantity):\n",
        "        self.name = name\n",
        "        self.price = price\n",
        "        self.quantity = quantity\n",
        "\n",
        "    def total_price(self):\n",
        "        return self.price * self.quantity\n",
        "\n",
        "product1 = product(\"pen\", 10, 5)\n",
        "print(product1.total_price())\n"
      ],
      "metadata": {
        "colab": {
          "base_uri": "https://localhost:8080/"
        },
        "id": "7_AX_lpQ6cbJ",
        "outputId": "e80a04ce-e35a-4bb0-a767-7e4d30434401"
      },
      "execution_count": 54,
      "outputs": [
        {
          "output_type": "stream",
          "name": "stdout",
          "text": [
            "50\n"
          ]
        }
      ]
    },
    {
      "cell_type": "code",
      "source": [
        "#16. Create a class Animal with an abstract method sound(). Create two derived classes Cow and Sheep that implement the sound() method.\n",
        "\n",
        "class Animal():\n",
        "  def sound(self):\n",
        "    pass\n",
        "\n",
        "class Cow(Animal):\n",
        "  def sound(self):\n",
        "    print(\"Moo\")\n",
        "\n",
        "class Sheep(Animal):\n",
        "  def sound(self):\n",
        "    print(\"Baa\")\n",
        "\n",
        "cow = Cow()\n",
        "cow.sound()\n",
        "\n",
        "sheep = Sheep()\n",
        "sheep.sound()"
      ],
      "metadata": {
        "colab": {
          "base_uri": "https://localhost:8080/"
        },
        "id": "BxVuh5gRltRH",
        "outputId": "b554d279-2db5-4a21-d8fe-3480ed78624f"
      },
      "execution_count": 55,
      "outputs": [
        {
          "output_type": "stream",
          "name": "stdout",
          "text": [
            "Moo\n",
            "Baa\n"
          ]
        }
      ]
    },
    {
      "cell_type": "code",
      "source": [
        "#17. Create a class Book with attributes title, author, and year_published. Add a method get_book_info() that returns a formatted string with the book's details.\n",
        "\n",
        "class Book:\n",
        "    def __init__(self, title, author, year_published):\n",
        "        self.title = title\n",
        "        self.author = author\n",
        "        self.year_published = year_published\n",
        "\n",
        "    def get_book_info(self):\n",
        "        return f\"Title: {self.title}\\nAuthor: {self.author}\\nYear Published: {self.year_published}\"\n",
        "\n",
        "\n",
        "book = Book(\"The Alchemist\", \"Paulo Coelho\", 1988)\n",
        "print(book.get_book_info())\n"
      ],
      "metadata": {
        "colab": {
          "base_uri": "https://localhost:8080/"
        },
        "id": "50qg3wYl7Vc4",
        "outputId": "bec2de0a-97a0-47c0-902e-80327384eb92"
      },
      "execution_count": 57,
      "outputs": [
        {
          "output_type": "stream",
          "name": "stdout",
          "text": [
            "Title: The Alchemist\n",
            "Author: Paulo Coelho\n",
            "Year Published: 1988\n"
          ]
        }
      ]
    },
    {
      "cell_type": "code",
      "source": [
        "#18. Create a class House with attributes address and price. Create a derived class Mansion that adds an attribute number_of_rooms.\n",
        "\n",
        "class House:\n",
        "    def __init__(self, address, price):\n",
        "        self.address = address\n",
        "        self.price = price\n",
        "\n",
        "class Mansion(House):\n",
        "    def __init__(self, address, price, number_of_rooms):\n",
        "        super().__init__(address, price)\n",
        "        self.number_of_rooms = number_of_rooms\n",
        "\n",
        "mansion = Mansion(\"123 Main St\", 250000, 8)\n",
        "print(mansion.address)\n",
        "print(mansion.price)\n",
        "print(mansion.number_of_rooms)\n"
      ],
      "metadata": {
        "colab": {
          "base_uri": "https://localhost:8080/"
        },
        "id": "8ExdNz0gmV3M",
        "outputId": "e6c8593e-e508-45ea-bd98-efad7e5ff9b2"
      },
      "execution_count": 58,
      "outputs": [
        {
          "output_type": "stream",
          "name": "stdout",
          "text": [
            "123 Main St\n",
            "250000\n",
            "8\n"
          ]
        }
      ]
    }
  ]
}